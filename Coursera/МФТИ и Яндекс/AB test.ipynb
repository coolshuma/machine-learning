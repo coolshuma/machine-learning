{
 "cells": [
  {
   "cell_type": "markdown",
   "metadata": {},
   "source": [
    "# AB Testing\n",
    "\n",
    "## Read data"
   ]
  },
  {
   "cell_type": "code",
   "execution_count": 9,
   "metadata": {},
   "outputs": [
    {
     "name": "stdout",
     "output_type": "stream",
     "text": [
      "Populating the interactive namespace from numpy and matplotlib\n"
     ]
    }
   ],
   "source": [
    "import pandas as pd\n",
    "import numpy as np\n",
    "import scipy\n",
    "import matplotlib.pyplot as plt\n",
    "from scipy import stats\n",
    "%pylab inline"
   ]
  },
  {
   "cell_type": "code",
   "execution_count": 2,
   "metadata": {
    "scrolled": true
   },
   "outputs": [
    {
     "name": "stdout",
     "output_type": "stream",
     "text": [
      "(566134, 6)\n"
     ]
    },
    {
     "data": {
      "text/html": [
       "<div>\n",
       "<style scoped>\n",
       "    .dataframe tbody tr th:only-of-type {\n",
       "        vertical-align: middle;\n",
       "    }\n",
       "\n",
       "    .dataframe tbody tr th {\n",
       "        vertical-align: top;\n",
       "    }\n",
       "\n",
       "    .dataframe thead th {\n",
       "        text-align: right;\n",
       "    }\n",
       "</style>\n",
       "<table border=\"1\" class=\"dataframe\">\n",
       "  <thead>\n",
       "    <tr style=\"text-align: right;\">\n",
       "      <th></th>\n",
       "      <th>userID</th>\n",
       "      <th>browser</th>\n",
       "      <th>slot</th>\n",
       "      <th>n_clicks</th>\n",
       "      <th>n_queries</th>\n",
       "      <th>n_nonclk_queries</th>\n",
       "    </tr>\n",
       "  </thead>\n",
       "  <tbody>\n",
       "    <tr>\n",
       "      <th>0</th>\n",
       "      <td>1</td>\n",
       "      <td>Browser #2</td>\n",
       "      <td>exp</td>\n",
       "      <td>23</td>\n",
       "      <td>32</td>\n",
       "      <td>19</td>\n",
       "    </tr>\n",
       "    <tr>\n",
       "      <th>1</th>\n",
       "      <td>3</td>\n",
       "      <td>Browser #4</td>\n",
       "      <td>exp</td>\n",
       "      <td>3</td>\n",
       "      <td>4</td>\n",
       "      <td>2</td>\n",
       "    </tr>\n",
       "    <tr>\n",
       "      <th>2</th>\n",
       "      <td>5</td>\n",
       "      <td>Browser #4</td>\n",
       "      <td>exp</td>\n",
       "      <td>29</td>\n",
       "      <td>35</td>\n",
       "      <td>16</td>\n",
       "    </tr>\n",
       "    <tr>\n",
       "      <th>3</th>\n",
       "      <td>6</td>\n",
       "      <td>Browser #4</td>\n",
       "      <td>control</td>\n",
       "      <td>12</td>\n",
       "      <td>6</td>\n",
       "      <td>0</td>\n",
       "    </tr>\n",
       "    <tr>\n",
       "      <th>4</th>\n",
       "      <td>7</td>\n",
       "      <td>Browser #4</td>\n",
       "      <td>exp</td>\n",
       "      <td>54</td>\n",
       "      <td>68</td>\n",
       "      <td>30</td>\n",
       "    </tr>\n",
       "  </tbody>\n",
       "</table>\n",
       "</div>"
      ],
      "text/plain": [
       "   userID     browser     slot  n_clicks  n_queries  n_nonclk_queries\n",
       "0       1  Browser #2      exp        23         32                19\n",
       "1       3  Browser #4      exp         3          4                 2\n",
       "2       5  Browser #4      exp        29         35                16\n",
       "3       6  Browser #4  control        12          6                 0\n",
       "4       7  Browser #4      exp        54         68                30"
      ]
     },
     "execution_count": 2,
     "metadata": {},
     "output_type": "execute_result"
    }
   ],
   "source": [
    "data = pd.read_csv('ab_browser_test.csv')\n",
    "print data.shape\n",
    "data.head()"
   ]
  },
  {
   "cell_type": "code",
   "execution_count": 3,
   "metadata": {},
   "outputs": [
    {
     "data": {
      "text/plain": [
       "3261823"
      ]
     },
     "execution_count": 3,
     "metadata": {},
     "output_type": "execute_result"
    }
   ],
   "source": [
    "np.sum(data[data.slot == 'exp']['n_clicks'])"
   ]
  },
  {
   "cell_type": "markdown",
   "metadata": {},
   "source": [
    "$\\textbf{№1}$ \n",
    "\n",
    "Посчитаем насколько в процентах больше кликов в экспериментальной группе:"
   ]
  },
  {
   "cell_type": "code",
   "execution_count": 4,
   "metadata": {},
   "outputs": [
    {
     "data": {
      "text/plain": [
       "1.6140000000000043"
      ]
     },
     "execution_count": 4,
     "metadata": {},
     "output_type": "execute_result"
    }
   ],
   "source": [
    "pr = np.sum(data[data.slot == 'exp']['n_clicks']) / (np.sum(data[data.slot == 'control']['n_clicks']) / 100.)\n",
    "np.around(pr, 3) - 100."
   ]
  },
  {
   "cell_type": "markdown",
   "metadata": {},
   "source": [
    "$\\textbf{№2}$ \n",
    "\n",
    "Посмотрим на доверительные интервалы разницы средних и медиан в группах с помощью бутстрепа. "
   ]
  },
  {
   "cell_type": "code",
   "execution_count": 5,
   "metadata": {},
   "outputs": [],
   "source": [
    "def get_bootstrap_samples(data, n_samples):\n",
    "    indices = np.random.randint(0, len(data), (n_samples, len(data)))\n",
    "    samples = data[indices]\n",
    "    return samples\n",
    "\n",
    "def stat_intervals(stat, alpha):\n",
    "    boundaries = np.percentile(stat, [100 * alpha / 2., 100 * (1 - alpha / 2.)])\n",
    "    return boundaries\n",
    "\n",
    "data_exp = data[data.slot == 'exp'].n_clicks.values\n",
    "data_control = data[data.slot == 'control'].n_clicks.values\n",
    "\n",
    "exp_samples = get_bootstrap_samples(data_exp, 100)\n",
    "control_samples = get_bootstrap_samples(data_control, 100)"
   ]
  },
  {
   "cell_type": "code",
   "execution_count": 6,
   "metadata": {},
   "outputs": [
    {
     "name": "stdout",
     "output_type": "stream",
     "text": [
      "Confidence intervals:\n",
      "95% c. i. for the experiment median: [ 5.  5.]\n",
      "95% c. i. for the control median: [ 4.  4.]\n",
      "\n",
      "95% c. i. for the experiment mean: [ 11.50568586  11.65052969]\n",
      "95% c. i. for the control mean: [ 11.19745303  11.3408144 ]\n",
      "95% c. i. for the control mean difference: [ 0.30823283  0.30971529]\n"
     ]
    }
   ],
   "source": [
    "exp_median_scores = map(np.median, exp_samples)\n",
    "control_median_scores = map(np.median, control_samples)\n",
    "\n",
    "exp_mean_scores = map(np.mean, exp_samples)\n",
    "control_mean_scores = map(np.mean, control_samples)\n",
    "\n",
    "print \"Confidence intervals:\"\n",
    "print \"95% c. i. for the experiment median:\",  stat_intervals(exp_median_scores, 0.05)\n",
    "print \"95% c. i. for the control median:\",  stat_intervals(control_median_scores, 0.05)\n",
    "\n",
    "print \n",
    "\n",
    "print \"95% c. i. for the experiment mean:\",  stat_intervals(exp_mean_scores, 0.05)\n",
    "print \"95% c. i. for the control mean:\",  stat_intervals(control_mean_scores, 0.05)\n",
    "\n",
    "print \"95% c. i. for the control mean difference:\", stat_intervals(exp_mean_scores, 0.05) - stat_intervals(control_mean_scores, 0.05)"
   ]
  },
  {
   "cell_type": "markdown",
   "metadata": {},
   "source": [
    "Разности интервалов не содержат нуля -- различия статистически значимы"
   ]
  },
  {
   "cell_type": "markdown",
   "metadata": {},
   "source": [
    "$\\textbf{№3}$ "
   ]
  },
  {
   "cell_type": "markdown",
   "metadata": {},
   "source": [
    "Утверждения не верны"
   ]
  },
  {
   "cell_type": "markdown",
   "metadata": {},
   "source": [
    "$\\textbf{№4}$ "
   ]
  },
  {
   "cell_type": "code",
   "execution_count": 7,
   "metadata": {
    "collapsed": true
   },
   "outputs": [],
   "source": [
    "np.random.seed(0)\n",
    "n_boot_samples = 500\n",
    "\n",
    "control_samples = get_bootstrap_samples(data_control, n_boot_samples)\n",
    "exp_mean_scores = map(np.mean, exp_samples)\n",
    "control_boot_chi_squared = map(lambda x: np.var(x) * x.shape[0], exp_samples)"
   ]
  },
  {
   "cell_type": "code",
   "execution_count": 10,
   "metadata": {},
   "outputs": [
    {
     "data": {
      "text/plain": [
       "(0.037487155642649997, 11.583551850273457, 0.99368564980865948)"
      ]
     },
     "execution_count": 10,
     "metadata": {},
     "output_type": "execute_result"
    },
    {
     "data": {
      "image/png": "[encoded data removed]",
      "text/plain": [
       "<matplotlib.figure.Figure at 0x111801890>"
      ]
     },
     "metadata": {},
     "output_type": "display_data"
    }
   ],
   "source": [
    "scipy.stats.probplot(exp_mean_scores, plot=plt)[1]"
   ]
  },
  {
   "cell_type": "code",
   "execution_count": 11,
   "metadata": {},
   "outputs": [
    {
     "data": {
      "text/plain": [
       "(61197.181803791442, 84411956.080613583, 0.99423356950308106)"
      ]
     },
     "execution_count": 11,
     "metadata": {},
     "output_type": "execute_result"
    },
    {
     "data": {
      "image/png": "[encoded data removed]",
      "text/plain": [
       "<matplotlib.figure.Figure at 0x10e849a50>"
      ]
     },
     "metadata": {},
     "output_type": "display_data"
    }
   ],
   "source": [
    "scipy.stats.probplot(control_boot_chi_squared, dist=\"chi2\", \n",
    "                     sparams=(n_boot_samples-1), plot=plt)[1]"
   ]
  },
  {
   "cell_type": "markdown",
   "metadata": {},
   "source": [
    "Оба R^2 > 0.99"
   ]
  },
  {
   "cell_type": "markdown",
   "metadata": {},
   "source": [
    "$\\textbf{№5}$ "
   ]
  },
  {
   "cell_type": "code",
   "execution_count": 12,
   "metadata": {},
   "outputs": [],
   "source": [
    "data_exp = data[data.slot == 'exp']\n",
    "data_control = data[data.slot == 'control']"
   ]
  },
  {
   "cell_type": "code",
   "execution_count": 13,
   "metadata": {},
   "outputs": [],
   "source": [
    "user_clicks_exp = pd.pivot_table(data_exp, values='n_clicks', index=['userID'], fill_value = 0)\n",
    "user_clicks_control = pd.pivot_table(data_control, values='n_clicks', index=['userID'], fill_value = 0)"
   ]
  },
  {
   "cell_type": "code",
   "execution_count": 14,
   "metadata": {},
   "outputs": [
    {
     "data": {
      "text/plain": [
       "MannwhitneyuResult(statistic=38900062480.5, pvalue=3.0354875032771815e-75)"
      ]
     },
     "execution_count": 14,
     "metadata": {},
     "output_type": "execute_result"
    }
   ],
   "source": [
    "stats.mannwhitneyu(user_clicks_exp.values, user_clicks_control.values)"
   ]
  },
  {
   "cell_type": "markdown",
   "metadata": {},
   "source": [
    "p-value свидетельствует о наличии ститистически-значимых отличий."
   ]
  },
  {
   "cell_type": "markdown",
   "metadata": {},
   "source": [
    "$\\textbf{№6}$ "
   ]
  },
  {
   "cell_type": "code",
   "execution_count": 15,
   "metadata": {
    "collapsed": true
   },
   "outputs": [],
   "source": [
    "browser_clicks_exp = pd.pivot_table(data_exp, values='n_clicks', index=['browser'], fill_value = 0)\n",
    "browser_clicks_control = pd.pivot_table(data_control, values='n_clicks', index=['browser'], fill_value = 0)"
   ]
  },
  {
   "cell_type": "code",
   "execution_count": 16,
   "metadata": {},
   "outputs": [],
   "source": [
    "browser_corr_mu = pd.DataFrame(columns=browser_clicks_control.index, index=browser_clicks_control.index)"
   ]
  },
  {
   "cell_type": "code",
   "execution_count": 41,
   "metadata": {},
   "outputs": [],
   "source": [
    "for br1 in browser_clicks_control.index:\n",
    "    for br2 in browser_clicks_exp.index:\n",
    "        browser_corr_mu[br1][br2] = stats.mannwhitneyu(data_exp[data_exp.browser == br1]['n_clicks'], \n",
    "                                                       data_control[data_control.browser == br2]['n_clicks'])"
   ]
  },
  {
   "cell_type": "code",
   "execution_count": 43,
   "metadata": {},
   "outputs": [
    {
     "data": {
      "text/html": [
       "<div>\n",
       "<style scoped>\n",
       "    .dataframe tbody tr th:only-of-type {\n",
       "        vertical-align: middle;\n",
       "    }\n",
       "\n",
       "    .dataframe tbody tr th {\n",
       "        vertical-align: top;\n",
       "    }\n",
       "\n",
       "    .dataframe thead th {\n",
       "        text-align: right;\n",
       "    }\n",
       "</style>\n",
       "<table border=\"1\" class=\"dataframe\">\n",
       "  <thead>\n",
       "    <tr style=\"text-align: right;\">\n",
       "      <th>browser</th>\n",
       "      <th>Browser #14</th>\n",
       "      <th>Browser #17</th>\n",
       "      <th>Browser #2</th>\n",
       "      <th>Browser #20</th>\n",
       "      <th>Browser #22</th>\n",
       "      <th>Browser #4</th>\n",
       "    </tr>\n",
       "    <tr>\n",
       "      <th>browser</th>\n",
       "      <th></th>\n",
       "      <th></th>\n",
       "      <th></th>\n",
       "      <th></th>\n",
       "      <th></th>\n",
       "      <th></th>\n",
       "    </tr>\n",
       "  </thead>\n",
       "  <tbody>\n",
       "    <tr>\n",
       "      <th>Browser #14</th>\n",
       "      <td>(806984730.5, 0.0)</td>\n",
       "      <td>(201078709.5, 0.0)</td>\n",
       "      <td>(883228857.0, 0.0)</td>\n",
       "      <td>(216549859.0, 0.0)</td>\n",
       "      <td>(994093856.0, 0.0)</td>\n",
       "      <td>(967521322.0, 0.0)</td>\n",
       "    </tr>\n",
       "    <tr>\n",
       "      <th>Browser #17</th>\n",
       "      <td>(256207272.5, 0.0)</td>\n",
       "      <td>(131389681.0, 0.0374006014301)</td>\n",
       "      <td>(371783343.0, 4.96523178486e-249)</td>\n",
       "      <td>(134203530.5, 6.17141694433e-07)</td>\n",
       "      <td>(531736251.5, 1.62186995172e-65)</td>\n",
       "      <td>(632565505.5, 0.020301234128)</td>\n",
       "    </tr>\n",
       "    <tr>\n",
       "      <th>Browser #2</th>\n",
       "      <td>(1099711196.0, 2.07808642818e-194)</td>\n",
       "      <td>(367613702.5, 7.38700077686e-299)</td>\n",
       "      <td>(1522572720.0, 0.0272438604197)</td>\n",
       "      <td>(399010631.5, 2.85084447627e-208)</td>\n",
       "      <td>(1786613376.0, 1.00654623282e-203)</td>\n",
       "      <td>(1796807830.5, 0.0)</td>\n",
       "    </tr>\n",
       "    <tr>\n",
       "      <th>Browser #20</th>\n",
       "      <td>(273381501.0, 0.0)</td>\n",
       "      <td>(132167991.0, 4.14234180937e-12)</td>\n",
       "      <td>(397788686.5, 8.20962900176e-190)</td>\n",
       "      <td>(143791805.0, 0.453666563887)</td>\n",
       "      <td>(569860200.5, 4.35666740466e-31)</td>\n",
       "      <td>(649288873.0, 2.03366203089e-06)</td>\n",
       "    </tr>\n",
       "    <tr>\n",
       "      <th>Browser #22</th>\n",
       "      <td>(1244895454.0, 0.0)</td>\n",
       "      <td>(528408247.5, 2.66802937157e-80)</td>\n",
       "      <td>(1786780479.5, 5.57748883912e-185)</td>\n",
       "      <td>(574303886.5, 8.15413425128e-30)</td>\n",
       "      <td>(2547597959.5, 0.257405515221)</td>\n",
       "      <td>(2590602187.5, 1.02945375016e-147)</td>\n",
       "    </tr>\n",
       "    <tr>\n",
       "      <th>Browser #4</th>\n",
       "      <td>(1228944055.0, 0.0)</td>\n",
       "      <td>(624575856.5, 1.5044005275e-06)</td>\n",
       "      <td>(1797365277.0, 0.0)</td>\n",
       "      <td>(652148805.5, 9.22381132706e-06)</td>\n",
       "      <td>(2578515371.0, 7.05012457035e-151)</td>\n",
       "      <td>(3072447765.0, 0.407606176585)</td>\n",
       "    </tr>\n",
       "  </tbody>\n",
       "</table>\n",
       "</div>"
      ],
      "text/plain": [
       "browser                             Browser #14  \\\n",
       "browser                                           \n",
       "Browser #14                  (806984730.5, 0.0)   \n",
       "Browser #17                  (256207272.5, 0.0)   \n",
       "Browser #2   (1099711196.0, 2.07808642818e-194)   \n",
       "Browser #20                  (273381501.0, 0.0)   \n",
       "Browser #22                 (1244895454.0, 0.0)   \n",
       "Browser #4                  (1228944055.0, 0.0)   \n",
       "\n",
       "browser                            Browser #17  \\\n",
       "browser                                          \n",
       "Browser #14                 (201078709.5, 0.0)   \n",
       "Browser #17     (131389681.0, 0.0374006014301)   \n",
       "Browser #2   (367613702.5, 7.38700077686e-299)   \n",
       "Browser #20   (132167991.0, 4.14234180937e-12)   \n",
       "Browser #22   (528408247.5, 2.66802937157e-80)   \n",
       "Browser #4     (624575856.5, 1.5044005275e-06)   \n",
       "\n",
       "browser                              Browser #2  \\\n",
       "browser                                           \n",
       "Browser #14                  (883228857.0, 0.0)   \n",
       "Browser #17   (371783343.0, 4.96523178486e-249)   \n",
       "Browser #2      (1522572720.0, 0.0272438604197)   \n",
       "Browser #20   (397788686.5, 8.20962900176e-190)   \n",
       "Browser #22  (1786780479.5, 5.57748883912e-185)   \n",
       "Browser #4                  (1797365277.0, 0.0)   \n",
       "\n",
       "browser                            Browser #20  \\\n",
       "browser                                          \n",
       "Browser #14                 (216549859.0, 0.0)   \n",
       "Browser #17   (134203530.5, 6.17141694433e-07)   \n",
       "Browser #2   (399010631.5, 2.85084447627e-208)   \n",
       "Browser #20      (143791805.0, 0.453666563887)   \n",
       "Browser #22   (574303886.5, 8.15413425128e-30)   \n",
       "Browser #4    (652148805.5, 9.22381132706e-06)   \n",
       "\n",
       "browser                             Browser #22  \\\n",
       "browser                                           \n",
       "Browser #14                  (994093856.0, 0.0)   \n",
       "Browser #17    (531736251.5, 1.62186995172e-65)   \n",
       "Browser #2   (1786613376.0, 1.00654623282e-203)   \n",
       "Browser #20    (569860200.5, 4.35666740466e-31)   \n",
       "Browser #22      (2547597959.5, 0.257405515221)   \n",
       "Browser #4   (2578515371.0, 7.05012457035e-151)   \n",
       "\n",
       "browser                              Browser #4  \n",
       "browser                                          \n",
       "Browser #14                  (967521322.0, 0.0)  \n",
       "Browser #17       (632565505.5, 0.020301234128)  \n",
       "Browser #2                  (1796807830.5, 0.0)  \n",
       "Browser #20    (649288873.0, 2.03366203089e-06)  \n",
       "Browser #22  (2590602187.5, 1.02945375016e-147)  \n",
       "Browser #4       (3072447765.0, 0.407606176585)  "
      ]
     },
     "execution_count": 43,
     "metadata": {},
     "output_type": "execute_result"
    }
   ],
   "source": [
    "browser_corr_mu"
   ]
  },
  {
   "cell_type": "code",
   "execution_count": 71,
   "metadata": {},
   "outputs": [
    {
     "name": "stdout",
     "output_type": "stream",
     "text": [
      "We can reject 5 H_1\n"
     ]
    }
   ],
   "source": [
    "alpha = 0.05 / 36\n",
    "reject_counter = 0\n",
    "for i in range(6):\n",
    "    if browser_corr_mu.iloc[i][i].pvalue > alpha:\n",
    "        reject_counter += 1\n",
    "print 'We can reject {} H_1'.format(reject_counter)"
   ]
  },
  {
   "cell_type": "markdown",
   "metadata": {},
   "source": [
    "$\\textbf{№7}$ "
   ]
  },
  {
   "cell_type": "code",
   "execution_count": 60,
   "metadata": {
    "collapsed": true
   },
   "outputs": [],
   "source": [
    "browser_sum_exp = pd.DataFrame(index=['sum'], columns=browser_clicks_control.index)\n",
    "browser_sum_control = pd.DataFrame(index=['sum'], columns=browser_clicks_control.index)"
   ]
  },
  {
   "cell_type": "code",
   "execution_count": 61,
   "metadata": {},
   "outputs": [],
   "source": [
    "for br1 in browser_clicks_control.index:\n",
    "    nonclk_queries_sum_exp = np.sum(data_exp[data_exp.browser == br1]['n_nonclk_queries'].values)\n",
    "    queries_sum_exp = np.sum(data_exp[data_exp.browser == br1]['n_queries'].values)\n",
    "    browser_sum_exp[br1] = double(nonclk_queries_sum_exp) / queries_sum_exp \n",
    "    \n",
    "    nonclk_queries_sum_control = np.sum(data_control[data_control.browser == br1]['n_nonclk_queries'].values)\n",
    "    queries_sum_control = np.sum(data_control[data_control.browser == br1]['n_queries'].values)\n",
    "    browser_sum_control[br1] = double(nonclk_queries_sum_control) / queries_sum_control"
   ]
  },
  {
   "cell_type": "code",
   "execution_count": 59,
   "metadata": {},
   "outputs": [
    {
     "data": {
      "text/html": [
       "<div>\n",
       "<style scoped>\n",
       "    .dataframe tbody tr th:only-of-type {\n",
       "        vertical-align: middle;\n",
       "    }\n",
       "\n",
       "    .dataframe tbody tr th {\n",
       "        vertical-align: top;\n",
       "    }\n",
       "\n",
       "    .dataframe thead th {\n",
       "        text-align: right;\n",
       "    }\n",
       "</style>\n",
       "<table border=\"1\" class=\"dataframe\">\n",
       "  <thead>\n",
       "    <tr style=\"text-align: right;\">\n",
       "      <th>browser</th>\n",
       "      <th>Browser #14</th>\n",
       "      <th>Browser #17</th>\n",
       "      <th>Browser #2</th>\n",
       "      <th>Browser #20</th>\n",
       "      <th>Browser #22</th>\n",
       "      <th>Browser #4</th>\n",
       "    </tr>\n",
       "  </thead>\n",
       "  <tbody>\n",
       "    <tr>\n",
       "      <th>sum</th>\n",
       "      <td>0.437556</td>\n",
       "      <td>0.369374</td>\n",
       "      <td>0.449827</td>\n",
       "      <td>0.389774</td>\n",
       "      <td>0.398539</td>\n",
       "      <td>0.451429</td>\n",
       "    </tr>\n",
       "  </tbody>\n",
       "</table>\n",
       "</div>"
      ],
      "text/plain": [
       "browser  Browser #14  Browser #17  Browser #2  Browser #20  Browser #22  \\\n",
       "sum         0.437556     0.369374    0.449827     0.389774     0.398539   \n",
       "\n",
       "browser  Browser #4  \n",
       "sum        0.451429  "
      ]
     },
     "execution_count": 59,
     "metadata": {},
     "output_type": "execute_result"
    }
   ],
   "source": [
    "browser_sum_exp"
   ]
  },
  {
   "cell_type": "code",
   "execution_count": 62,
   "metadata": {},
   "outputs": [
    {
     "data": {
      "text/html": [
       "<div>\n",
       "<style scoped>\n",
       "    .dataframe tbody tr th:only-of-type {\n",
       "        vertical-align: middle;\n",
       "    }\n",
       "\n",
       "    .dataframe tbody tr th {\n",
       "        vertical-align: top;\n",
       "    }\n",
       "\n",
       "    .dataframe thead th {\n",
       "        text-align: right;\n",
       "    }\n",
       "</style>\n",
       "<table border=\"1\" class=\"dataframe\">\n",
       "  <thead>\n",
       "    <tr style=\"text-align: right;\">\n",
       "      <th>browser</th>\n",
       "      <th>Browser #14</th>\n",
       "      <th>Browser #17</th>\n",
       "      <th>Browser #2</th>\n",
       "      <th>Browser #20</th>\n",
       "      <th>Browser #22</th>\n",
       "      <th>Browser #4</th>\n",
       "    </tr>\n",
       "  </thead>\n",
       "  <tbody>\n",
       "    <tr>\n",
       "      <th>sum</th>\n",
       "      <td>0.575904</td>\n",
       "      <td>0.362994</td>\n",
       "      <td>0.459627</td>\n",
       "      <td>0.405405</td>\n",
       "      <td>0.40594</td>\n",
       "      <td>0.469709</td>\n",
       "    </tr>\n",
       "  </tbody>\n",
       "</table>\n",
       "</div>"
      ],
      "text/plain": [
       "browser  Browser #14  Browser #17  Browser #2  Browser #20  Browser #22  \\\n",
       "sum         0.575904     0.362994    0.459627     0.405405      0.40594   \n",
       "\n",
       "browser  Browser #4  \n",
       "sum        0.469709  "
      ]
     },
     "execution_count": 62,
     "metadata": {},
     "output_type": "execute_result"
    }
   ],
   "source": [
    "browser_sum_control"
   ]
  },
  {
   "cell_type": "markdown",
   "metadata": {},
   "source": [
    "Положительно и статистически-значимо изменение влияет только на пользователей одного из браузеров"
   ]
  }
 ],
 "metadata": {
  "kernelspec": {
   "display_name": "Python 2",
   "language": "python",
   "name": "python2"
  },
  "language_info": {
   "codemirror_mode": {
    "name": "ipython",
    "version": 2
   },
   "file_extension": ".py",
   "mimetype": "text/x-python",
   "name": "python",
   "nbconvert_exporter": "python",
   "pygments_lexer": "ipython2",
   "version": "2.7.10"
  }
 },
 "nbformat": 4,
 "nbformat_minor": 2
}
