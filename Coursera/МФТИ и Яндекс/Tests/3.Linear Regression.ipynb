{
 "cells": [
  {
   "cell_type": "code",
   "execution_count": 334,
   "metadata": {},
   "outputs": [],
   "source": [
    "import statsmodels\n",
    "import scipy as sc\n",
    "import numpy as np\n",
    "import pandas as pd\n",
    "import statsmodels.formula.api as smf\n",
    "import statsmodels.stats.api as sms"
   ]
  },
  {
   "cell_type": "code",
   "execution_count": 335,
   "metadata": {},
   "outputs": [
    {
     "name": "stdout",
     "output_type": "stream",
     "text": [
      "(4361, 15)\n"
     ]
    },
    {
     "data": {
      "text/html": [
       "<div>\n",
       "<style scoped>\n",
       "    .dataframe tbody tr th:only-of-type {\n",
       "        vertical-align: middle;\n",
       "    }\n",
       "\n",
       "    .dataframe tbody tr th {\n",
       "        vertical-align: top;\n",
       "    }\n",
       "\n",
       "    .dataframe thead th {\n",
       "        text-align: right;\n",
       "    }\n",
       "</style>\n",
       "<table border=\"1\" class=\"dataframe\">\n",
       "  <thead>\n",
       "    <tr style=\"text-align: right;\">\n",
       "      <th></th>\n",
       "      <th>ceb</th>\n",
       "      <th>age</th>\n",
       "      <th>educ</th>\n",
       "      <th>religion</th>\n",
       "      <th>idlnchld</th>\n",
       "      <th>knowmeth</th>\n",
       "      <th>usemeth</th>\n",
       "      <th>evermarr</th>\n",
       "      <th>agefm</th>\n",
       "      <th>heduc</th>\n",
       "      <th>urban</th>\n",
       "      <th>electric</th>\n",
       "      <th>radio</th>\n",
       "      <th>tv</th>\n",
       "      <th>bicycle</th>\n",
       "    </tr>\n",
       "  </thead>\n",
       "  <tbody>\n",
       "    <tr>\n",
       "      <th>0</th>\n",
       "      <td>0</td>\n",
       "      <td>18</td>\n",
       "      <td>10</td>\n",
       "      <td>catholic</td>\n",
       "      <td>4.0</td>\n",
       "      <td>1.0</td>\n",
       "      <td>1.0</td>\n",
       "      <td>0</td>\n",
       "      <td>NaN</td>\n",
       "      <td>NaN</td>\n",
       "      <td>1</td>\n",
       "      <td>1.0</td>\n",
       "      <td>1.0</td>\n",
       "      <td>1.0</td>\n",
       "      <td>1.0</td>\n",
       "    </tr>\n",
       "    <tr>\n",
       "      <th>1</th>\n",
       "      <td>2</td>\n",
       "      <td>43</td>\n",
       "      <td>11</td>\n",
       "      <td>protestant</td>\n",
       "      <td>2.0</td>\n",
       "      <td>1.0</td>\n",
       "      <td>1.0</td>\n",
       "      <td>1</td>\n",
       "      <td>20.0</td>\n",
       "      <td>14.0</td>\n",
       "      <td>1</td>\n",
       "      <td>1.0</td>\n",
       "      <td>1.0</td>\n",
       "      <td>1.0</td>\n",
       "      <td>1.0</td>\n",
       "    </tr>\n",
       "    <tr>\n",
       "      <th>2</th>\n",
       "      <td>0</td>\n",
       "      <td>49</td>\n",
       "      <td>4</td>\n",
       "      <td>spirit</td>\n",
       "      <td>4.0</td>\n",
       "      <td>1.0</td>\n",
       "      <td>0.0</td>\n",
       "      <td>1</td>\n",
       "      <td>22.0</td>\n",
       "      <td>1.0</td>\n",
       "      <td>1</td>\n",
       "      <td>1.0</td>\n",
       "      <td>1.0</td>\n",
       "      <td>0.0</td>\n",
       "      <td>0.0</td>\n",
       "    </tr>\n",
       "    <tr>\n",
       "      <th>3</th>\n",
       "      <td>0</td>\n",
       "      <td>24</td>\n",
       "      <td>12</td>\n",
       "      <td>other</td>\n",
       "      <td>2.0</td>\n",
       "      <td>1.0</td>\n",
       "      <td>0.0</td>\n",
       "      <td>0</td>\n",
       "      <td>NaN</td>\n",
       "      <td>NaN</td>\n",
       "      <td>1</td>\n",
       "      <td>1.0</td>\n",
       "      <td>1.0</td>\n",
       "      <td>1.0</td>\n",
       "      <td>1.0</td>\n",
       "    </tr>\n",
       "    <tr>\n",
       "      <th>4</th>\n",
       "      <td>3</td>\n",
       "      <td>32</td>\n",
       "      <td>13</td>\n",
       "      <td>other</td>\n",
       "      <td>3.0</td>\n",
       "      <td>1.0</td>\n",
       "      <td>1.0</td>\n",
       "      <td>1</td>\n",
       "      <td>24.0</td>\n",
       "      <td>12.0</td>\n",
       "      <td>1</td>\n",
       "      <td>1.0</td>\n",
       "      <td>1.0</td>\n",
       "      <td>1.0</td>\n",
       "      <td>1.0</td>\n",
       "    </tr>\n",
       "  </tbody>\n",
       "</table>\n",
       "</div>"
      ],
      "text/plain": [
       "   ceb  age  educ    religion  idlnchld  knowmeth  usemeth  evermarr  agefm  \\\n",
       "0    0   18    10    catholic       4.0       1.0      1.0         0    NaN   \n",
       "1    2   43    11  protestant       2.0       1.0      1.0         1   20.0   \n",
       "2    0   49     4      spirit       4.0       1.0      0.0         1   22.0   \n",
       "3    0   24    12       other       2.0       1.0      0.0         0    NaN   \n",
       "4    3   32    13       other       3.0       1.0      1.0         1   24.0   \n",
       "\n",
       "   heduc  urban  electric  radio   tv  bicycle  \n",
       "0    NaN      1       1.0    1.0  1.0      1.0  \n",
       "1   14.0      1       1.0    1.0  1.0      1.0  \n",
       "2    1.0      1       1.0    1.0  0.0      0.0  \n",
       "3    NaN      1       1.0    1.0  1.0      1.0  \n",
       "4   12.0      1       1.0    1.0  1.0      1.0  "
      ]
     },
     "execution_count": 335,
     "metadata": {},
     "output_type": "execute_result"
    }
   ],
   "source": [
    "data = pd.read_table('botswana.tsv')\n",
    "print data.shape\n",
    "data.head()"
   ]
  },
  {
   "cell_type": "code",
   "execution_count": 336,
   "metadata": {},
   "outputs": [
    {
     "data": {
      "text/html": [
       "<div>\n",
       "<style scoped>\n",
       "    .dataframe tbody tr th:only-of-type {\n",
       "        vertical-align: middle;\n",
       "    }\n",
       "\n",
       "    .dataframe tbody tr th {\n",
       "        vertical-align: top;\n",
       "    }\n",
       "\n",
       "    .dataframe thead th {\n",
       "        text-align: right;\n",
       "    }\n",
       "</style>\n",
       "<table border=\"1\" class=\"dataframe\">\n",
       "  <thead>\n",
       "    <tr style=\"text-align: right;\">\n",
       "      <th></th>\n",
       "      <th>ceb</th>\n",
       "      <th>age</th>\n",
       "      <th>educ</th>\n",
       "      <th>idlnchld</th>\n",
       "      <th>knowmeth</th>\n",
       "      <th>usemeth</th>\n",
       "      <th>evermarr</th>\n",
       "      <th>agefm</th>\n",
       "      <th>heduc</th>\n",
       "      <th>urban</th>\n",
       "      <th>electric</th>\n",
       "      <th>radio</th>\n",
       "      <th>tv</th>\n",
       "      <th>bicycle</th>\n",
       "    </tr>\n",
       "  </thead>\n",
       "  <tbody>\n",
       "    <tr>\n",
       "      <th>count</th>\n",
       "      <td>4361.000000</td>\n",
       "      <td>4361.000000</td>\n",
       "      <td>4361.000000</td>\n",
       "      <td>4241.000000</td>\n",
       "      <td>4354.000000</td>\n",
       "      <td>4290.000000</td>\n",
       "      <td>4361.000000</td>\n",
       "      <td>2079.000000</td>\n",
       "      <td>1956.000000</td>\n",
       "      <td>4361.000000</td>\n",
       "      <td>4358.000000</td>\n",
       "      <td>4359.000000</td>\n",
       "      <td>4359.000000</td>\n",
       "      <td>4358.000000</td>\n",
       "    </tr>\n",
       "    <tr>\n",
       "      <th>mean</th>\n",
       "      <td>2.441642</td>\n",
       "      <td>27.405182</td>\n",
       "      <td>5.855996</td>\n",
       "      <td>4.615892</td>\n",
       "      <td>0.963252</td>\n",
       "      <td>0.577622</td>\n",
       "      <td>0.476726</td>\n",
       "      <td>20.686388</td>\n",
       "      <td>5.144683</td>\n",
       "      <td>0.516625</td>\n",
       "      <td>0.140202</td>\n",
       "      <td>0.701766</td>\n",
       "      <td>0.092911</td>\n",
       "      <td>0.275815</td>\n",
       "    </tr>\n",
       "    <tr>\n",
       "      <th>std</th>\n",
       "      <td>2.406861</td>\n",
       "      <td>8.685233</td>\n",
       "      <td>3.927075</td>\n",
       "      <td>2.219303</td>\n",
       "      <td>0.188164</td>\n",
       "      <td>0.493996</td>\n",
       "      <td>0.499515</td>\n",
       "      <td>5.002383</td>\n",
       "      <td>4.803028</td>\n",
       "      <td>0.499781</td>\n",
       "      <td>0.347236</td>\n",
       "      <td>0.457535</td>\n",
       "      <td>0.290341</td>\n",
       "      <td>0.446975</td>\n",
       "    </tr>\n",
       "    <tr>\n",
       "      <th>min</th>\n",
       "      <td>0.000000</td>\n",
       "      <td>15.000000</td>\n",
       "      <td>0.000000</td>\n",
       "      <td>0.000000</td>\n",
       "      <td>0.000000</td>\n",
       "      <td>0.000000</td>\n",
       "      <td>0.000000</td>\n",
       "      <td>10.000000</td>\n",
       "      <td>0.000000</td>\n",
       "      <td>0.000000</td>\n",
       "      <td>0.000000</td>\n",
       "      <td>0.000000</td>\n",
       "      <td>0.000000</td>\n",
       "      <td>0.000000</td>\n",
       "    </tr>\n",
       "    <tr>\n",
       "      <th>25%</th>\n",
       "      <td>1.000000</td>\n",
       "      <td>20.000000</td>\n",
       "      <td>3.000000</td>\n",
       "      <td>3.000000</td>\n",
       "      <td>1.000000</td>\n",
       "      <td>0.000000</td>\n",
       "      <td>0.000000</td>\n",
       "      <td>17.000000</td>\n",
       "      <td>0.000000</td>\n",
       "      <td>0.000000</td>\n",
       "      <td>0.000000</td>\n",
       "      <td>0.000000</td>\n",
       "      <td>0.000000</td>\n",
       "      <td>0.000000</td>\n",
       "    </tr>\n",
       "    <tr>\n",
       "      <th>50%</th>\n",
       "      <td>2.000000</td>\n",
       "      <td>26.000000</td>\n",
       "      <td>7.000000</td>\n",
       "      <td>4.000000</td>\n",
       "      <td>1.000000</td>\n",
       "      <td>1.000000</td>\n",
       "      <td>0.000000</td>\n",
       "      <td>20.000000</td>\n",
       "      <td>6.000000</td>\n",
       "      <td>1.000000</td>\n",
       "      <td>0.000000</td>\n",
       "      <td>1.000000</td>\n",
       "      <td>0.000000</td>\n",
       "      <td>0.000000</td>\n",
       "    </tr>\n",
       "    <tr>\n",
       "      <th>75%</th>\n",
       "      <td>4.000000</td>\n",
       "      <td>33.000000</td>\n",
       "      <td>8.000000</td>\n",
       "      <td>6.000000</td>\n",
       "      <td>1.000000</td>\n",
       "      <td>1.000000</td>\n",
       "      <td>1.000000</td>\n",
       "      <td>23.000000</td>\n",
       "      <td>8.000000</td>\n",
       "      <td>1.000000</td>\n",
       "      <td>0.000000</td>\n",
       "      <td>1.000000</td>\n",
       "      <td>0.000000</td>\n",
       "      <td>1.000000</td>\n",
       "    </tr>\n",
       "    <tr>\n",
       "      <th>max</th>\n",
       "      <td>13.000000</td>\n",
       "      <td>49.000000</td>\n",
       "      <td>20.000000</td>\n",
       "      <td>20.000000</td>\n",
       "      <td>1.000000</td>\n",
       "      <td>1.000000</td>\n",
       "      <td>1.000000</td>\n",
       "      <td>46.000000</td>\n",
       "      <td>20.000000</td>\n",
       "      <td>1.000000</td>\n",
       "      <td>1.000000</td>\n",
       "      <td>1.000000</td>\n",
       "      <td>1.000000</td>\n",
       "      <td>1.000000</td>\n",
       "    </tr>\n",
       "  </tbody>\n",
       "</table>\n",
       "</div>"
      ],
      "text/plain": [
       "               ceb          age         educ     idlnchld     knowmeth  \\\n",
       "count  4361.000000  4361.000000  4361.000000  4241.000000  4354.000000   \n",
       "mean      2.441642    27.405182     5.855996     4.615892     0.963252   \n",
       "std       2.406861     8.685233     3.927075     2.219303     0.188164   \n",
       "min       0.000000    15.000000     0.000000     0.000000     0.000000   \n",
       "25%       1.000000    20.000000     3.000000     3.000000     1.000000   \n",
       "50%       2.000000    26.000000     7.000000     4.000000     1.000000   \n",
       "75%       4.000000    33.000000     8.000000     6.000000     1.000000   \n",
       "max      13.000000    49.000000    20.000000    20.000000     1.000000   \n",
       "\n",
       "           usemeth     evermarr        agefm        heduc        urban  \\\n",
       "count  4290.000000  4361.000000  2079.000000  1956.000000  4361.000000   \n",
       "mean      0.577622     0.476726    20.686388     5.144683     0.516625   \n",
       "std       0.493996     0.499515     5.002383     4.803028     0.499781   \n",
       "min       0.000000     0.000000    10.000000     0.000000     0.000000   \n",
       "25%       0.000000     0.000000    17.000000     0.000000     0.000000   \n",
       "50%       1.000000     0.000000    20.000000     6.000000     1.000000   \n",
       "75%       1.000000     1.000000    23.000000     8.000000     1.000000   \n",
       "max       1.000000     1.000000    46.000000    20.000000     1.000000   \n",
       "\n",
       "          electric        radio           tv      bicycle  \n",
       "count  4358.000000  4359.000000  4359.000000  4358.000000  \n",
       "mean      0.140202     0.701766     0.092911     0.275815  \n",
       "std       0.347236     0.457535     0.290341     0.446975  \n",
       "min       0.000000     0.000000     0.000000     0.000000  \n",
       "25%       0.000000     0.000000     0.000000     0.000000  \n",
       "50%       0.000000     1.000000     0.000000     0.000000  \n",
       "75%       0.000000     1.000000     0.000000     1.000000  \n",
       "max       1.000000     1.000000     1.000000     1.000000  "
      ]
     },
     "execution_count": 336,
     "metadata": {},
     "output_type": "execute_result"
    }
   ],
   "source": [
    "data.describe()"
   ]
  },
  {
   "cell_type": "markdown",
   "metadata": {},
   "source": [
    "$\\textbf{№1}$"
   ]
  },
  {
   "cell_type": "code",
   "execution_count": 337,
   "metadata": {},
   "outputs": [
    {
     "data": {
      "text/plain": [
       "spirit        1841\n",
       "other         1080\n",
       "protestant     993\n",
       "catholic       447\n",
       "Name: religion, dtype: int64"
      ]
     },
     "execution_count": 337,
     "metadata": {},
     "output_type": "execute_result"
    }
   ],
   "source": [
    "data['religion'].value_counts()"
   ]
  },
  {
   "cell_type": "markdown",
   "metadata": {},
   "source": [
    "$\\textbf{№2}$"
   ]
  },
  {
   "cell_type": "code",
   "execution_count": 338,
   "metadata": {},
   "outputs": [
    {
     "data": {
      "text/plain": [
       "1834"
      ]
     },
     "execution_count": 338,
     "metadata": {},
     "output_type": "execute_result"
    }
   ],
   "source": [
    "data.dropna().shape[0]"
   ]
  },
  {
   "cell_type": "markdown",
   "metadata": {},
   "source": [
    "$\\textbf{№3}$"
   ]
  },
  {
   "cell_type": "code",
   "execution_count": 339,
   "metadata": {},
   "outputs": [
    {
     "data": {
      "text/html": [
       "<div>\n",
       "<style scoped>\n",
       "    .dataframe tbody tr th:only-of-type {\n",
       "        vertical-align: middle;\n",
       "    }\n",
       "\n",
       "    .dataframe tbody tr th {\n",
       "        vertical-align: top;\n",
       "    }\n",
       "\n",
       "    .dataframe thead th {\n",
       "        text-align: right;\n",
       "    }\n",
       "</style>\n",
       "<table border=\"1\" class=\"dataframe\">\n",
       "  <thead>\n",
       "    <tr style=\"text-align: right;\">\n",
       "      <th></th>\n",
       "      <th>ceb</th>\n",
       "      <th>age</th>\n",
       "      <th>educ</th>\n",
       "      <th>religion</th>\n",
       "      <th>idlnchld</th>\n",
       "      <th>knowmeth</th>\n",
       "      <th>usemeth</th>\n",
       "      <th>agefm</th>\n",
       "      <th>heduc</th>\n",
       "      <th>urban</th>\n",
       "      <th>electric</th>\n",
       "      <th>radio</th>\n",
       "      <th>tv</th>\n",
       "      <th>bicycle</th>\n",
       "      <th>nevermarr</th>\n",
       "    </tr>\n",
       "  </thead>\n",
       "  <tbody>\n",
       "    <tr>\n",
       "      <th>0</th>\n",
       "      <td>0</td>\n",
       "      <td>18</td>\n",
       "      <td>10</td>\n",
       "      <td>catholic</td>\n",
       "      <td>4.0</td>\n",
       "      <td>1.0</td>\n",
       "      <td>1.0</td>\n",
       "      <td>0.0</td>\n",
       "      <td>-1.0</td>\n",
       "      <td>1</td>\n",
       "      <td>1.0</td>\n",
       "      <td>1.0</td>\n",
       "      <td>1.0</td>\n",
       "      <td>1.0</td>\n",
       "      <td>1</td>\n",
       "    </tr>\n",
       "    <tr>\n",
       "      <th>1</th>\n",
       "      <td>2</td>\n",
       "      <td>43</td>\n",
       "      <td>11</td>\n",
       "      <td>protestant</td>\n",
       "      <td>2.0</td>\n",
       "      <td>1.0</td>\n",
       "      <td>1.0</td>\n",
       "      <td>20.0</td>\n",
       "      <td>14.0</td>\n",
       "      <td>1</td>\n",
       "      <td>1.0</td>\n",
       "      <td>1.0</td>\n",
       "      <td>1.0</td>\n",
       "      <td>1.0</td>\n",
       "      <td>0</td>\n",
       "    </tr>\n",
       "    <tr>\n",
       "      <th>2</th>\n",
       "      <td>0</td>\n",
       "      <td>49</td>\n",
       "      <td>4</td>\n",
       "      <td>spirit</td>\n",
       "      <td>4.0</td>\n",
       "      <td>1.0</td>\n",
       "      <td>0.0</td>\n",
       "      <td>22.0</td>\n",
       "      <td>1.0</td>\n",
       "      <td>1</td>\n",
       "      <td>1.0</td>\n",
       "      <td>1.0</td>\n",
       "      <td>0.0</td>\n",
       "      <td>0.0</td>\n",
       "      <td>0</td>\n",
       "    </tr>\n",
       "    <tr>\n",
       "      <th>3</th>\n",
       "      <td>0</td>\n",
       "      <td>24</td>\n",
       "      <td>12</td>\n",
       "      <td>other</td>\n",
       "      <td>2.0</td>\n",
       "      <td>1.0</td>\n",
       "      <td>0.0</td>\n",
       "      <td>0.0</td>\n",
       "      <td>-1.0</td>\n",
       "      <td>1</td>\n",
       "      <td>1.0</td>\n",
       "      <td>1.0</td>\n",
       "      <td>1.0</td>\n",
       "      <td>1.0</td>\n",
       "      <td>1</td>\n",
       "    </tr>\n",
       "    <tr>\n",
       "      <th>4</th>\n",
       "      <td>3</td>\n",
       "      <td>32</td>\n",
       "      <td>13</td>\n",
       "      <td>other</td>\n",
       "      <td>3.0</td>\n",
       "      <td>1.0</td>\n",
       "      <td>1.0</td>\n",
       "      <td>24.0</td>\n",
       "      <td>12.0</td>\n",
       "      <td>1</td>\n",
       "      <td>1.0</td>\n",
       "      <td>1.0</td>\n",
       "      <td>1.0</td>\n",
       "      <td>1.0</td>\n",
       "      <td>0</td>\n",
       "    </tr>\n",
       "  </tbody>\n",
       "</table>\n",
       "</div>"
      ],
      "text/plain": [
       "   ceb  age  educ    religion  idlnchld  knowmeth  usemeth  agefm  heduc  \\\n",
       "0    0   18    10    catholic       4.0       1.0      1.0    0.0   -1.0   \n",
       "1    2   43    11  protestant       2.0       1.0      1.0   20.0   14.0   \n",
       "2    0   49     4      spirit       4.0       1.0      0.0   22.0    1.0   \n",
       "3    0   24    12       other       2.0       1.0      0.0    0.0   -1.0   \n",
       "4    3   32    13       other       3.0       1.0      1.0   24.0   12.0   \n",
       "\n",
       "   urban  electric  radio   tv  bicycle  nevermarr  \n",
       "0      1       1.0    1.0  1.0      1.0          1  \n",
       "1      1       1.0    1.0  1.0      1.0          0  \n",
       "2      1       1.0    1.0  0.0      0.0          0  \n",
       "3      1       1.0    1.0  1.0      1.0          1  \n",
       "4      1       1.0    1.0  1.0      1.0          0  "
      ]
     },
     "execution_count": 339,
     "metadata": {},
     "output_type": "execute_result"
    }
   ],
   "source": [
    "data['nevermarr'] = map(lambda x: 1 if x else 0, pd.isna(data.agefm))\n",
    "ind = [i for i in xrange(data.shape[0]) if data['nevermarr'][i] == 1]\n",
    "data['heduc'].iloc[ind] = -1\n",
    "data['agefm'].fillna(0, inplace=True)\n",
    "data.drop('evermarr', axis=1, inplace=True)\n",
    "data.head()"
   ]
  },
  {
   "cell_type": "code",
   "execution_count": 340,
   "metadata": {},
   "outputs": [
    {
     "data": {
      "text/plain": [
       "False    4238\n",
       "True      123\n",
       "Name: heduc, dtype: int64"
      ]
     },
     "execution_count": 340,
     "metadata": {},
     "output_type": "execute_result"
    }
   ],
   "source": [
    "data['heduc'].isna().value_counts()"
   ]
  },
  {
   "cell_type": "markdown",
   "metadata": {},
   "source": [
    "$\\textbf{№4}$"
   ]
  },
  {
   "cell_type": "code",
   "execution_count": 341,
   "metadata": {},
   "outputs": [],
   "source": [
    "data['idlnchld_noans'] = map(lambda x: 1 if x else 0, pd.isna(data.idlnchld))\n",
    "data['heduc_noans'] = map(lambda x: 1 if x else 0, pd.isna(data.heduc))\n",
    "data['usemeth_noans'] = map(lambda x: 1 if x else 0, pd.isna(data.usemeth))"
   ]
  },
  {
   "cell_type": "code",
   "execution_count": 343,
   "metadata": {},
   "outputs": [
    {
     "data": {
      "text/plain": [
       "78264"
      ]
     },
     "execution_count": 343,
     "metadata": {},
     "output_type": "execute_result"
    }
   ],
   "source": [
    "data['idlnchld'].fillna(-1, inplace=True)\n",
    "data['usemeth'].fillna(-1, inplace=True)\n",
    "data['heduc'].fillna(-2, inplace=True)\n",
    "data.dropna(inplace=True, subset=['knowmeth', 'electric', 'radio', 'tv', 'bicycle'])\n",
    "data.shape[0] * data.shape[1]"
   ]
  },
  {
   "cell_type": "markdown",
   "metadata": {},
   "source": [
    "$\\textbf{№5}$"
   ]
  },
  {
   "cell_type": "code",
   "execution_count": 389,
   "metadata": {},
   "outputs": [
    {
     "name": "stdout",
     "output_type": "stream",
     "text": [
      "                            OLS Regression Results                            \n",
      "==============================================================================\n",
      "Dep. Variable:                    ceb   R-squared:                       0.644\n",
      "Model:                            OLS   Adj. R-squared:                  0.643\n",
      "Method:                 Least Squares   F-statistic:                     412.5\n",
      "Date:                Wed, 03 Jan 2018   Prob (F-statistic):               0.00\n",
      "Time:                        21:57:28   Log-Likelihood:                -7732.1\n",
      "No. Observations:                4348   AIC:                         1.550e+04\n",
      "Df Residuals:                    4328   BIC:                         1.563e+04\n",
      "Df Model:                          19                                         \n",
      "Covariance Type:            nonrobust                                         \n",
      "==========================================================================================\n",
      "                             coef    std err          t      P>|t|      [0.025      0.975]\n",
      "------------------------------------------------------------------------------------------\n",
      "Intercept                 -1.0263      0.212     -4.835      0.000      -1.443      -0.610\n",
      "religion[T.other]         -0.0830      0.083     -1.001      0.317      -0.245       0.080\n",
      "religion[T.protestant]    -0.0149      0.082     -0.181      0.857      -0.176       0.146\n",
      "religion[T.spirit]        -0.0191      0.077     -0.248      0.804      -0.171       0.132\n",
      "age                        0.1703      0.003     51.891      0.000       0.164       0.177\n",
      "educ                      -0.0724      0.007     -9.843      0.000      -0.087      -0.058\n",
      "idlnchld                   0.0760      0.011      6.923      0.000       0.054       0.098\n",
      "knowmeth                   0.5564      0.121      4.580      0.000       0.318       0.795\n",
      "usemeth                    0.6473      0.048     13.424      0.000       0.553       0.742\n",
      "agefm                     -0.0604      0.007     -9.213      0.000      -0.073      -0.048\n",
      "heduc                     -0.0551      0.008     -6.838      0.000      -0.071      -0.039\n",
      "urban                     -0.2137      0.047     -4.527      0.000      -0.306      -0.121\n",
      "electric                  -0.2685      0.077     -3.479      0.001      -0.420      -0.117\n",
      "radio                     -0.0235      0.051     -0.461      0.645      -0.123       0.076\n",
      "tv                        -0.1451      0.093     -1.566      0.118      -0.327       0.037\n",
      "bicycle                    0.2139      0.050      4.260      0.000       0.115       0.312\n",
      "nevermarr                 -2.2393      0.148    -15.143      0.000      -2.529      -1.949\n",
      "idlnchld_noans             0.6539      0.153      4.286      0.000       0.355       0.953\n",
      "heduc_noans               -0.8724      0.145     -6.026      0.000      -1.156      -0.589\n",
      "usemeth_noans              0.7652      0.196      3.910      0.000       0.382       1.149\n",
      "==============================================================================\n",
      "Omnibus:                      224.411   Durbin-Watson:                   1.887\n",
      "Prob(Omnibus):                  0.000   Jarque-Bera (JB):              859.014\n",
      "Skew:                           0.003   Prob(JB):                    2.93e-187\n",
      "Kurtosis:                       5.178   Cond. No.                         361.\n",
      "==============================================================================\n",
      "\n",
      "Warnings:\n",
      "[1] Standard Errors assume that the covariance matrix of the errors is correctly specified.\n"
     ]
    }
   ],
   "source": [
    "model = smf.ols('ceb ~ age + educ + religion + idlnchld + knowmeth +'\\\n",
    "             'usemeth + agefm + heduc + urban + electric + radio +'\\\n",
    "             'tv + bicycle + nevermarr + idlnchld_noans + heduc_noans + usemeth_noans', \n",
    "              data=data)\n",
    "fitted = model.fit()\n",
    "print fitted.summary()"
   ]
  },
  {
   "cell_type": "markdown",
   "metadata": {},
   "source": [
    "$\\textbf{№6}$"
   ]
  },
  {
   "cell_type": "markdown",
   "metadata": {},
   "source": [
    "3"
   ]
  },
  {
   "cell_type": "markdown",
   "metadata": {},
   "source": [
    "$\\textbf{№7}$"
   ]
  },
  {
   "cell_type": "code",
   "execution_count": 370,
   "metadata": {},
   "outputs": [
    {
     "name": "stdout",
     "output_type": "stream",
     "text": [
      "p=1.14529276334e-225\n"
     ]
    },
    {
     "name": "stderr",
     "output_type": "stream",
     "text": [
      "/Users/andrey/Library/Python/2.7/lib/python/site-packages/ipykernel_launcher.py:1: DeprecationWarning: `het_breushpagan` is deprecated, use `het_breuschpagan` instead!\n",
      "Use het_breuschpagan, het_breushpagan will be removed in 0.9 \n",
      "(Note: misspelling missing 'c')\n",
      "  \"\"\"Entry point for launching an IPython kernel.\n"
     ]
    }
   ],
   "source": [
    "print 'p={}'.format(sms.het_breushpagan(fitted.resid, fitted.model.exog)[1])"
   ]
  },
  {
   "cell_type": "code",
   "execution_count": 383,
   "metadata": {},
   "outputs": [
    {
     "name": "stdout",
     "output_type": "stream",
     "text": [
      "                            OLS Regression Results                            \n",
      "==============================================================================\n",
      "Dep. Variable:                    ceb   R-squared:                       0.644\n",
      "Model:                            OLS   Adj. R-squared:                  0.643\n",
      "Method:                 Least Squares   F-statistic:                     345.0\n",
      "Date:                Wed, 03 Jan 2018   Prob (F-statistic):               0.00\n",
      "Time:                        21:49:30   Log-Likelihood:                -7732.1\n",
      "No. Observations:                4348   AIC:                         1.550e+04\n",
      "Df Residuals:                    4328   BIC:                         1.563e+04\n",
      "Df Model:                          19                                         \n",
      "Covariance Type:                  HC1                                         \n",
      "==========================================================================================\n",
      "                             coef    std err          z      P>|z|      [0.025      0.975]\n",
      "------------------------------------------------------------------------------------------\n",
      "Intercept                 -1.0263      0.266     -3.863      0.000      -1.547      -0.506\n",
      "religion[T.other]         -0.0830      0.078     -1.067      0.286      -0.235       0.069\n",
      "religion[T.protestant]    -0.0149      0.078     -0.192      0.848      -0.167       0.137\n",
      "religion[T.spirit]        -0.0191      0.071     -0.268      0.789      -0.159       0.121\n",
      "age                        0.1703      0.004     38.627      0.000       0.162       0.179\n",
      "educ                      -0.0724      0.007     -9.924      0.000      -0.087      -0.058\n",
      "idlnchld                   0.0760      0.015      5.236      0.000       0.048       0.104\n",
      "knowmeth                   0.5564      0.174      3.190      0.001       0.215       0.898\n",
      "usemeth                    0.6473      0.052     12.478      0.000       0.546       0.749\n",
      "agefm                     -0.0604      0.010     -6.174      0.000      -0.080      -0.041\n",
      "heduc                     -0.0551      0.009     -6.126      0.000      -0.073      -0.037\n",
      "urban                     -0.2137      0.046     -4.667      0.000      -0.303      -0.124\n",
      "electric                  -0.2685      0.072     -3.732      0.000      -0.410      -0.128\n",
      "radio                     -0.0235      0.053     -0.446      0.656      -0.127       0.080\n",
      "tv                        -0.1451      0.082     -1.766      0.077      -0.306       0.016\n",
      "bicycle                    0.2139      0.048      4.412      0.000       0.119       0.309\n",
      "nevermarr                 -2.2393      0.202    -11.082      0.000      -2.635      -1.843\n",
      "idlnchld_noans             0.6539      0.216      3.029      0.002       0.231       1.077\n",
      "heduc_noans               -0.8724      0.191     -4.556      0.000      -1.248      -0.497\n",
      "usemeth_noans              0.7652      0.213      3.590      0.000       0.347       1.183\n",
      "==============================================================================\n",
      "Omnibus:                      224.411   Durbin-Watson:                   1.887\n",
      "Prob(Omnibus):                  0.000   Jarque-Bera (JB):              859.014\n",
      "Skew:                           0.003   Prob(JB):                    2.93e-187\n",
      "Kurtosis:                       5.178   Cond. No.                         361.\n",
      "==============================================================================\n",
      "\n",
      "Warnings:\n",
      "[1] Standard Errors are heteroscedasticity robust (HC1)\n"
     ]
    }
   ],
   "source": [
    "model = smf.ols('ceb ~ age + educ + religion + idlnchld + knowmeth +'\\\n",
    "             'usemeth + agefm + heduc + urban + electric + radio +'\\\n",
    "             'tv + bicycle + nevermarr + idlnchld_noans + heduc_noans + usemeth_noans', \n",
    "              data=data)\n",
    "fitted = model.fit(cov_type='HC1')\n",
    "print fitted.summary()"
   ]
  },
  {
   "cell_type": "markdown",
   "metadata": {},
   "source": [
    "$\\textbf{№8}$"
   ]
  },
  {
   "cell_type": "code",
   "execution_count": 384,
   "metadata": {},
   "outputs": [
    {
     "name": "stdout",
     "output_type": "stream",
     "text": [
      "                            OLS Regression Results                            \n",
      "==============================================================================\n",
      "Dep. Variable:                    ceb   R-squared:                       0.644\n",
      "Model:                            OLS   Adj. R-squared:                  0.643\n",
      "Method:                 Least Squares   F-statistic:                     463.4\n",
      "Date:                Wed, 03 Jan 2018   Prob (F-statistic):               0.00\n",
      "Time:                        21:49:30   Log-Likelihood:                -7734.5\n",
      "No. Observations:                4348   AIC:                         1.550e+04\n",
      "Df Residuals:                    4333   BIC:                         1.559e+04\n",
      "Df Model:                          14                                         \n",
      "Covariance Type:                  HC1                                         \n",
      "==================================================================================\n",
      "                     coef    std err          z      P>|z|      [0.025      0.975]\n",
      "----------------------------------------------------------------------------------\n",
      "Intercept         -1.0698      0.258     -4.152      0.000      -1.575      -0.565\n",
      "age                0.1702      0.004     38.746      0.000       0.162       0.179\n",
      "educ              -0.0729      0.007    -10.311      0.000      -0.087      -0.059\n",
      "idlnchld           0.0770      0.014      5.323      0.000       0.049       0.105\n",
      "knowmeth           0.5610      0.174      3.224      0.001       0.220       0.902\n",
      "usemeth            0.6516      0.052     12.571      0.000       0.550       0.753\n",
      "agefm             -0.0606      0.010     -6.192      0.000      -0.080      -0.041\n",
      "heduc             -0.0573      0.009     -6.440      0.000      -0.075      -0.040\n",
      "urban             -0.2190      0.045     -4.814      0.000      -0.308      -0.130\n",
      "electric          -0.3207      0.063     -5.076      0.000      -0.445      -0.197\n",
      "bicycle            0.2046      0.048      4.279      0.000       0.111       0.298\n",
      "nevermarr         -2.2501      0.202    -11.158      0.000      -2.645      -1.855\n",
      "idlnchld_noans     0.6565      0.216      3.043      0.002       0.234       1.079\n",
      "heduc_noans       -0.8853      0.191     -4.638      0.000      -1.259      -0.511\n",
      "usemeth_noans      0.7732      0.212      3.639      0.000       0.357       1.190\n",
      "==============================================================================\n",
      "Omnibus:                      224.096   Durbin-Watson:                   1.886\n",
      "Prob(Omnibus):                  0.000   Jarque-Bera (JB):              856.760\n",
      "Skew:                           0.004   Prob(JB):                    9.06e-187\n",
      "Kurtosis:                       5.175   Cond. No.                         345.\n",
      "==============================================================================\n",
      "\n",
      "Warnings:\n",
      "[1] Standard Errors are heteroscedasticity robust (HC1)\n"
     ]
    }
   ],
   "source": [
    "model_del_ftrs = smf.ols('ceb ~ age + educ + idlnchld + knowmeth +'\\\n",
    "             'usemeth + agefm + heduc + urban + electric +'\\\n",
    "             'bicycle + nevermarr + idlnchld_noans + heduc_noans + usemeth_noans', \n",
    "              data=data)\n",
    "fitted = model_del_ftrs.fit(cov_type='HC1')\n",
    "print fitted.summary()"
   ]
  },
  {
   "cell_type": "code",
   "execution_count": 385,
   "metadata": {},
   "outputs": [
    {
     "name": "stdout",
     "output_type": "stream",
     "text": [
      "F=0.919236, p=0.467231, k1=5.000000\n"
     ]
    }
   ],
   "source": [
    "print \"F=%f, p=%f, k1=%f\" % model.fit().compare_f_test(model_del_ftrs.fit())"
   ]
  },
  {
   "cell_type": "markdown",
   "metadata": {},
   "source": [
    "$\\textbf{№9}$"
   ]
  },
  {
   "cell_type": "code",
   "execution_count": 386,
   "metadata": {},
   "outputs": [
    {
     "name": "stdout",
     "output_type": "stream",
     "text": [
      "                            OLS Regression Results                            \n",
      "==============================================================================\n",
      "Dep. Variable:                    ceb   R-squared:                       0.629\n",
      "Model:                            OLS   Adj. R-squared:                  0.628\n",
      "Method:                 Least Squares   F-statistic:                     396.4\n",
      "Date:                Wed, 03 Jan 2018   Prob (F-statistic):               0.00\n",
      "Time:                        21:49:32   Log-Likelihood:                -7825.7\n",
      "No. Observations:                4348   AIC:                         1.568e+04\n",
      "Df Residuals:                    4335   BIC:                         1.576e+04\n",
      "Df Model:                          12                                         \n",
      "Covariance Type:                  HC1                                         \n",
      "==================================================================================\n",
      "                     coef    std err          z      P>|z|      [0.025      0.975]\n",
      "----------------------------------------------------------------------------------\n",
      "Intercept         -1.1931      0.262     -4.562      0.000      -1.706      -0.681\n",
      "age                0.1776      0.004     41.592      0.000       0.169       0.186\n",
      "educ              -0.0560      0.007     -7.788      0.000      -0.070      -0.042\n",
      "idlnchld           0.0705      0.015      4.748      0.000       0.041       0.100\n",
      "knowmeth           0.8739      0.174      5.029      0.000       0.533       1.214\n",
      "agefm             -0.0649      0.010     -6.489      0.000      -0.085      -0.045\n",
      "heduc             -0.0521      0.009     -5.658      0.000      -0.070      -0.034\n",
      "urban             -0.1866      0.046     -4.019      0.000      -0.278      -0.096\n",
      "electric          -0.3218      0.065     -4.953      0.000      -0.449      -0.194\n",
      "bicycle            0.1979      0.048      4.083      0.000       0.103       0.293\n",
      "nevermarr         -2.3625      0.205    -11.498      0.000      -2.765      -1.960\n",
      "idlnchld_noans     0.5266      0.225      2.343      0.019       0.086       0.967\n",
      "heduc_noans       -0.7947      0.195     -4.070      0.000      -1.177      -0.412\n",
      "==============================================================================\n",
      "Omnibus:                      250.641   Durbin-Watson:                   1.910\n",
      "Prob(Omnibus):                  0.000   Jarque-Bera (JB):              936.515\n",
      "Skew:                          -0.158   Prob(JB):                    4.35e-204\n",
      "Kurtosis:                       5.251   Cond. No.                         345.\n",
      "==============================================================================\n",
      "\n",
      "Warnings:\n",
      "[1] Standard Errors are heteroscedasticity robust (HC1)\n"
     ]
    }
   ],
   "source": [
    "model_del_try = smf.ols('ceb ~ age + educ + idlnchld + knowmeth +'\\\n",
    "             'agefm + heduc + urban + electric +'\\\n",
    "             'bicycle + nevermarr + idlnchld_noans + heduc_noans', \n",
    "              data=data)\n",
    "fitted = model_del_try.fit(cov_type='HC1')\n",
    "print fitted.summary()"
   ]
  },
  {
   "cell_type": "code",
   "execution_count": 387,
   "metadata": {},
   "outputs": [
    {
     "name": "stdout",
     "output_type": "stream",
     "text": [
      "(92.890582301098021, 3.1552009480371243e-40, 2.0)\n"
     ]
    }
   ],
   "source": [
    "print model_del_ftrs.fit().compare_f_test(model_del_try.fit())"
   ]
  },
  {
   "cell_type": "markdown",
   "metadata": {},
   "source": [
    "40"
   ]
  },
  {
   "cell_type": "markdown",
   "metadata": {},
   "source": [
    "$\\textbf{№10}$"
   ]
  },
  {
   "cell_type": "code",
   "execution_count": 388,
   "metadata": {},
   "outputs": [
    {
     "name": "stdout",
     "output_type": "stream",
     "text": [
      "                            OLS Regression Results                            \n",
      "==============================================================================\n",
      "Dep. Variable:                    ceb   R-squared:                       0.644\n",
      "Model:                            OLS   Adj. R-squared:                  0.643\n",
      "Method:                 Least Squares   F-statistic:                     463.4\n",
      "Date:                Wed, 03 Jan 2018   Prob (F-statistic):               0.00\n",
      "Time:                        21:49:33   Log-Likelihood:                -7734.5\n",
      "No. Observations:                4348   AIC:                         1.550e+04\n",
      "Df Residuals:                    4333   BIC:                         1.559e+04\n",
      "Df Model:                          14                                         \n",
      "Covariance Type:                  HC1                                         \n",
      "==================================================================================\n",
      "                     coef    std err          z      P>|z|      [0.025      0.975]\n",
      "----------------------------------------------------------------------------------\n",
      "Intercept         -1.0698      0.258     -4.152      0.000      -1.575      -0.565\n",
      "age                0.1702      0.004     38.746      0.000       0.162       0.179\n",
      "educ              -0.0729      0.007    -10.311      0.000      -0.087      -0.059\n",
      "idlnchld           0.0770      0.014      5.323      0.000       0.049       0.105\n",
      "knowmeth           0.5610      0.174      3.224      0.001       0.220       0.902\n",
      "usemeth            0.6516      0.052     12.571      0.000       0.550       0.753\n",
      "agefm             -0.0606      0.010     -6.192      0.000      -0.080      -0.041\n",
      "heduc             -0.0573      0.009     -6.440      0.000      -0.075      -0.040\n",
      "urban             -0.2190      0.045     -4.814      0.000      -0.308      -0.130\n",
      "electric          -0.3207      0.063     -5.076      0.000      -0.445      -0.197\n",
      "bicycle            0.2046      0.048      4.279      0.000       0.111       0.298\n",
      "nevermarr         -2.2501      0.202    -11.158      0.000      -2.645      -1.855\n",
      "idlnchld_noans     0.6565      0.216      3.043      0.002       0.234       1.079\n",
      "heduc_noans       -0.8853      0.191     -4.638      0.000      -1.259      -0.511\n",
      "usemeth_noans      0.7732      0.212      3.639      0.000       0.357       1.190\n",
      "==============================================================================\n",
      "Omnibus:                      224.096   Durbin-Watson:                   1.886\n",
      "Prob(Omnibus):                  0.000   Jarque-Bera (JB):              856.760\n",
      "Skew:                           0.004   Prob(JB):                    9.06e-187\n",
      "Kurtosis:                       5.175   Cond. No.                         345.\n",
      "==============================================================================\n",
      "\n",
      "Warnings:\n",
      "[1] Standard Errors are heteroscedasticity robust (HC1)\n"
     ]
    }
   ],
   "source": [
    "model_del_ftrs = smf.ols('ceb ~ age + educ + idlnchld + knowmeth +'\\\n",
    "             'usemeth + agefm + heduc + urban + electric +'\\\n",
    "             'bicycle + nevermarr + idlnchld_noans + heduc_noans + usemeth_noans', \n",
    "              data=data)\n",
    "fitted = model_del_ftrs.fit(cov_type='HC1')\n",
    "print fitted.summary()"
   ]
  },
  {
   "cell_type": "markdown",
   "metadata": {},
   "source": [
    "NOT:\n",
    "\n",
    "nevermarr, 0.63v, age+, idlchl + noans\n",
    "\n",
    "without knowmeth\n",
    "\n",
    "withou hnowmeth, var\n"
   ]
  },
  {
   "cell_type": "code",
   "execution_count": null,
   "metadata": {
    "collapsed": true
   },
   "outputs": [],
   "source": []
  }
 ],
 "metadata": {
  "kernelspec": {
   "display_name": "Python 2",
   "language": "python",
   "name": "python2"
  },
  "language_info": {
   "codemirror_mode": {
    "name": "ipython",
    "version": 2
   },
   "file_extension": ".py",
   "mimetype": "text/x-python",
   "name": "python",
   "nbconvert_exporter": "python",
   "pygments_lexer": "ipython2",
   "version": "2.7.10"
  }
 },
 "nbformat": 4,
 "nbformat_minor": 2
}
