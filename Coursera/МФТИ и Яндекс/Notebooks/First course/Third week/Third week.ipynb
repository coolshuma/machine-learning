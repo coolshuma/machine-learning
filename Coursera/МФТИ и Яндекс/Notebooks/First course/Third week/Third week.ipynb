{
 "cells": [
  {
   "cell_type": "markdown",
   "metadata": {},
   "source": [
    "# Машинное обучение и анализ данных\n",
    "## Третья неделя"
   ]
  },
  {
   "cell_type": "code",
   "execution_count": 29,
   "metadata": {
    "collapsed": true
   },
   "outputs": [],
   "source": [
    "import numpy as np\n",
    "import math\n",
    "from matplotlib import pylab as plt\n",
    "from scipy import optimize\n",
    "%matplotlib inline"
   ]
  },
  {
   "cell_type": "markdown",
   "metadata": {},
   "source": [
    "### Градиентный метод"
   ]
  },
  {
   "cell_type": "code",
   "execution_count": 30,
   "metadata": {
    "collapsed": true
   },
   "outputs": [],
   "source": [
    "def func(x):\n",
    "    return math.sin(x / 5.0) * math.exp(x / 10.0) + 5.0 * math.exp(-x / 2.0)"
   ]
  },
  {
   "cell_type": "code",
   "execution_count": 31,
   "metadata": {},
   "outputs": [
    {
     "name": "stdout",
     "output_type": "stream",
     "text": [
      "[ 25.880193] -11.898894666\n"
     ]
    }
   ],
   "source": [
    "opt = optimize.minimize(func, 30, method=\"BFGS\")  # Gradient optimize\n",
    "min_x = opt.x\n",
    "print min_x, func(min_x)\n",
    "\n",
    "\n",
    "# for i in range(1, 30):\n",
    "#     print func(i)"
   ]
  },
  {
   "cell_type": "markdown",
   "metadata": {},
   "source": [
    "### Эволюционный метод"
   ]
  },
  {
   "cell_type": "code",
   "execution_count": 32,
   "metadata": {},
   "outputs": [
    {
     "name": "stdout",
     "output_type": "stream",
     "text": [
      "[ 25.8801932] -11.898894666\n"
     ]
    }
   ],
   "source": [
    "from scipy.optimize import differential_evolution\n",
    "\n",
    "opt = differential_evolution(func, [(1, 30)]) # Evolution optimize\n",
    "min_x = opt.x\n",
    "print min_x, func(min_x)"
   ]
  },
  {
   "cell_type": "markdown",
   "metadata": {},
   "source": [
    "### Негладкая функция"
   ]
  },
  {
   "cell_type": "code",
   "execution_count": 53,
   "metadata": {},
   "outputs": [
    {
     "data": {
      "image/png": "[encoded data removed]",
      "text/plain": [
       "<matplotlib.figure.Figure at 0x109763b90>"
      ]
     },
     "metadata": {},
     "output_type": "display_data"
    }
   ],
   "source": [
    "def non_smooth_func(x):\n",
    "    return int(func(x))\n",
    "    \n",
    "args = np.arange(1, 30, 0.1)\n",
    "ys = map(lambda x: non_smooth_func(x), args) # equal two paths to fill ys\n",
    "ys = [non_smooth_func(x) for x in args]\n",
    "plt.plot(args, ys)\n",
    "plt.show()"
   ]
  },
  {
   "cell_type": "code",
   "execution_count": 54,
   "metadata": {},
   "outputs": [
    {
     "name": "stdout",
     "output_type": "stream",
     "text": [
      "[ 30.] -5\n",
      "[ 25.23585689] -11\n"
     ]
    }
   ],
   "source": [
    "opt = optimize.minimize(non_smooth_func, 30, method=\"BFGS\") # Try to use gradient method\n",
    "min_x = opt.x\n",
    "print min_x, non_smooth_func(min_x)\n",
    "\n",
    "opt = differential_evolution(non_smooth_func, [(1, 30)]) # Try to use evolution optimize\n",
    "min_x = opt.x\n",
    "print min_x, non_smooth_func(min_x)"
   ]
  },
  {
   "cell_type": "code",
   "execution_count": 1,
   "metadata": {},
   "outputs": [
    {
     "data": {
      "text/plain": [
       "0.6597"
      ]
     },
     "execution_count": 1,
     "metadata": {},
     "output_type": "execute_result"
    }
   ],
   "source": [
    "0.49 * 0.49 + 0.49 * 0.38 + 0.49 * 0.1 + 0.49 * 0.03 + 0.38 * 0.38 + 0.38 * 0.03 + 0.1 * 0.1 + 0.1 * 0.03 + 0.03 * 0.03"
   ]
  },
  {
   "cell_type": "code",
   "execution_count": null,
   "metadata": {
    "collapsed": true
   },
   "outputs": [],
   "source": []
  }
 ],
 "metadata": {
  "kernelspec": {
   "display_name": "Python 2",
   "language": "python",
   "name": "python2"
  },
  "language_info": {
   "codemirror_mode": {
    "name": "ipython",
    "version": 2
   },
   "file_extension": ".py",
   "mimetype": "text/x-python",
   "name": "python",
   "nbconvert_exporter": "python",
   "pygments_lexer": "ipython2",
   "version": "2.7.10"
  }
 },
 "nbformat": 4,
 "nbformat_minor": 2
}
