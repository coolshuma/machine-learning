{
 "cells": [
  {
   "cell_type": "code",
   "execution_count": 10,
   "metadata": {
    "collapsed": true
   },
   "outputs": [],
   "source": [
    "import pandas as pd\n",
    "import sklearn\n",
    "import csv\n",
    "import matplotlib.pyplot as plt"
   ]
  },
  {
   "cell_type": "code",
   "execution_count": 9,
   "metadata": {},
   "outputs": [],
   "source": [
    "with open('checkins.dat') as input_file:        \n",
    "    newLines = []\n",
    "    for line in input_file:\n",
    "        newLine = [x.strip() for x in line.split('|')]\n",
    "        if len(newLine) == 6 and newLine[3] and newLine[4]:\n",
    "            newLines.append(newLine)\n",
    "\n",
    "with open('checkins.csv', 'w') as output_file:\n",
    "    file_writer = csv.writer(output_file)\n",
    "    file_writer.writerows(newLines)"
   ]
  },
  {
   "cell_type": "code",
   "execution_count": 21,
   "metadata": {},
   "outputs": [
    {
     "name": "stdout",
     "output_type": "stream",
     "text": [
      "(396634, 6)\n",
      "       id  user_id  venue_id   latitude   longitude           created_at\n",
      "0  984222    15824      5222  38.895112  -77.036366  2012-04-21 17:43:47\n",
      "1  984234    44652      5222  33.800745  -84.410520  2012-04-21 17:43:43\n",
      "2  984291   105054      5222  45.523452 -122.676207  2012-04-21 17:39:22\n",
      "3  984318  2146539      5222  40.764462 -111.904565  2012-04-21 17:35:46\n",
      "4  984232    93870    380645  33.448377 -112.074037  2012-04-21 17:38:18\n"
     ]
    }
   ],
   "source": [
    "data = pd.read_csv('checkins.csv')\n",
    "print data.shape\n",
    "print data.head()"
   ]
  },
  {
   "cell_type": "code",
   "execution_count": 23,
   "metadata": {},
   "outputs": [
    {
     "name": "stdout",
     "output_type": "stream",
     "text": [
      "(100000, 2)\n"
     ]
    }
   ],
   "source": [
    "data = data[:100000][['latitude','longitude']]\n",
    "print data.shape"
   ]
  },
  {
   "cell_type": "code",
   "execution_count": 24,
   "metadata": {},
   "outputs": [
    {
     "data": {
      "text/plain": [
       "MeanShift(bandwidth=0.1, bin_seeding=False, cluster_all=True, min_bin_freq=1,\n",
       "     n_jobs=1, seeds=None)"
      ]
     },
     "execution_count": 24,
     "metadata": {},
     "output_type": "execute_result"
    }
   ],
   "source": [
    "from sklearn.cluster import MeanShift\n",
    "\n",
    "algorithm = MeanShift(bandwidth=0.1)\n",
    "algorithm.fit(data)"
   ]
  },
  {
   "cell_type": "code",
   "execution_count": 54,
   "metadata": {},
   "outputs": [
    {
     "name": "stdout",
     "output_type": "stream",
     "text": [
      "593\n",
      "[array([ 40.7177164 , -73.99183542]), array([  33.44943805, -112.00213969]), array([  33.44638027, -111.90188756]), array([ 41.87824378, -87.62984336]), array([  37.68868157, -122.40933037])]\n"
     ]
    }
   ],
   "source": [
    "labels = algorithm.labels_\n",
    "elements_in_cluster = dict()\n",
    "for label in labels:\n",
    "    if elements_in_cluster.get(label):\n",
    "        elements_in_cluster[label] += 1\n",
    "    else:\n",
    "        elements_in_cluster[label] = 1\n",
    "clusters = algorithm.cluster_centers_\n",
    "\n",
    "good_points = []\n",
    "\n",
    "for idx, count in enumerate(elements_in_cluster.values()):\n",
    "    if count > 15:\n",
    "        good_points.append(clusters[idx])\n",
    "\n",
    "print len(good_points)\n",
    "print good_points[:5]"
   ]
  },
  {
   "cell_type": "code",
   "execution_count": 57,
   "metadata": {},
   "outputs": [],
   "source": [
    "offices = ([33.751277, -118.188740], [25.867736, -80.324116], [51.503016, -0.075479], \n",
    "           [52.378894, 4.885084], [39.366487, 117.036146], [-33.868457, 151.205134])"
   ]
  },
  {
   "cell_type": "code",
   "execution_count": 63,
   "metadata": {},
   "outputs": [],
   "source": [
    "from math import sqrt\n",
    "import operator\n",
    "\n",
    "distantions = []\n",
    "for idx, coordinate in enumerate(good_points):\n",
    "    dist = -1\n",
    "    for office in offices:\n",
    "        cur_dist = sqrt((coordinate[0] - office[0]) ** 2 + (coordinate[1] - office[1]) ** 2)\n",
    "        if dist == -1 or cur_dist < dist:\n",
    "            dist = cur_dist\n",
    "    distantions.append((dist, idx))\n",
    "distantions.sort(key=operator.itemgetter(0))"
   ]
  },
  {
   "cell_type": "code",
   "execution_count": 72,
   "metadata": {},
   "outputs": [
    {
     "name": "stdout",
     "output_type": "stream",
     "text": [
      "[ -33.86063043  151.20477593]\n",
      "[ 52.37296399   4.89231722]\n",
      "[ 25.84567226 -80.3188906 ]\n",
      "[ 51.50299126  -0.12553729]\n",
      "[  33.80987796 -118.14892381]\n",
      "[ 25.78581242 -80.21793804]\n",
      "[ 25.70534972 -80.28342874]\n",
      "[ 26.01009825 -80.19999059]\n",
      "[  33.88832534 -118.04892817]\n",
      "[  33.87298601 -118.36209115]\n",
      "[  33.97257482 -118.16837067]\n",
      "[ 26.13884379 -80.33434684]\n",
      "[  33.98393587 -118.00740497]\n",
      "[ 26.12086266 -80.15890668]\n",
      "[  33.81730643 -117.89124917]\n",
      "[  34.06039755 -118.24870903]\n",
      "[  33.67430266 -117.85878927]\n",
      "[ 26.20058464 -80.25071613]\n",
      "[  34.03548695 -118.43899772]\n",
      "[  34.13146015 -118.11801181]\n"
     ]
    }
   ],
   "source": [
    "for dist, idx in distantions[:20]:\n",
    "    print good_points[idx]"
   ]
  },
  {
   "cell_type": "code",
   "execution_count": null,
   "metadata": {
    "collapsed": true
   },
   "outputs": [],
   "source": []
  }
 ],
 "metadata": {
  "kernelspec": {
   "display_name": "Python 2",
   "language": "python",
   "name": "python2"
  },
  "language_info": {
   "codemirror_mode": {
    "name": "ipython",
    "version": 2
   },
   "file_extension": ".py",
   "mimetype": "text/x-python",
   "name": "python",
   "nbconvert_exporter": "python",
   "pygments_lexer": "ipython2",
   "version": "2.7.10"
  }
 },
 "nbformat": 4,
 "nbformat_minor": 2
}
