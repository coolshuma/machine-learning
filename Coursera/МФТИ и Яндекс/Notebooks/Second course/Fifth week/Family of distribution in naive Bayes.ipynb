{
 "cells": [
  {
   "cell_type": "code",
   "execution_count": 5,
   "metadata": {},
   "outputs": [],
   "source": [
    "import pandas as pd\n",
    "import numpy as np\n",
    "from sklearn.datasets import load_breast_cancer, load_digits\n",
    "import matplotlib\n",
    "from matplotlib import pyplot as plt\n",
    "matplotlib.style.use('ggplot')\n",
    "%matplotlib inline"
   ]
  },
  {
   "cell_type": "markdown",
   "metadata": {},
   "source": [
    "## Load Data"
   ]
  },
  {
   "cell_type": "code",
   "execution_count": 9,
   "metadata": {},
   "outputs": [],
   "source": [
    "digits_data = load_digits().data\n",
    "digits_target = load_digits().target\n",
    "\n",
    "cancer_data = load_breast_cancer().data\n",
    "cancer_target = load_breast_cancer().target"
   ]
  },
  {
   "cell_type": "code",
   "execution_count": 28,
   "metadata": {},
   "outputs": [
    {
     "name": "stdout",
     "output_type": "stream",
     "text": [
      "[[  0.   0.   5.  13.   9.   1.   0.   0.   0.   0.  13.  15.  10.  15.\n",
      "    5.   0.   0.   3.  15.   2.   0.  11.   8.   0.   0.   4.  12.   0.\n",
      "    0.   8.   8.   0.   0.   5.   8.   0.   0.   9.   8.   0.   0.   4.\n",
      "   11.   0.   1.  12.   7.   0.   0.   2.  14.   5.  10.  12.   0.   0.\n",
      "    0.   0.   6.  13.  10.   0.   0.   0.]\n",
      " [  0.   0.   0.  12.  13.   5.   0.   0.   0.   0.   0.  11.  16.   9.\n",
      "    0.   0.   0.   0.   3.  15.  16.   6.   0.   0.   0.   7.  15.  16.\n",
      "   16.   2.   0.   0.   0.   0.   1.  16.  16.   3.   0.   0.   0.   0.\n",
      "    1.  16.  16.   6.   0.   0.   0.   0.   1.  16.  16.   6.   0.   0.\n",
      "    0.   0.   0.  11.  16.  10.   0.   0.]\n",
      " [  0.   0.   0.   4.  15.  12.   0.   0.   0.   0.   3.  16.  15.  14.\n",
      "    0.   0.   0.   0.   8.  13.   8.  16.   0.   0.   0.   0.   1.   6.\n",
      "   15.  11.   0.   0.   0.   1.   8.  13.  15.   1.   0.   0.   0.   9.\n",
      "   16.  16.   5.   0.   0.   0.   0.   3.  13.  16.  16.  11.   5.   0.\n",
      "    0.   0.   0.   3.  11.  16.   9.   0.]\n",
      " [  0.   0.   7.  15.  13.   1.   0.   0.   0.   8.  13.   6.  15.   4.\n",
      "    0.   0.   0.   2.   1.  13.  13.   0.   0.   0.   0.   0.   2.  15.\n",
      "   11.   1.   0.   0.   0.   0.   0.   1.  12.  12.   1.   0.   0.   0.\n",
      "    0.   0.   1.  10.   8.   0.   0.   0.   8.   4.   5.  14.   9.   0.\n",
      "    0.   0.   7.  13.  13.   9.   0.   0.]\n",
      " [  0.   0.   0.   1.  11.   0.   0.   0.   0.   0.   0.   7.   8.   0.\n",
      "    0.   0.   0.   0.   1.  13.   6.   2.   2.   0.   0.   0.   7.  15.\n",
      "    0.   9.   8.   0.   0.   5.  16.  10.   0.  16.   6.   0.   0.   4.\n",
      "   15.  16.  13.  16.   1.   0.   0.   0.   0.   3.  15.  10.   0.   0.\n",
      "    0.   0.   0.   2.  16.   4.   0.   0.]]\n",
      "\n",
      "[[  1.79900000e+01   1.03800000e+01   1.22800000e+02   1.00100000e+03\n",
      "    1.18400000e-01   2.77600000e-01   3.00100000e-01   1.47100000e-01\n",
      "    2.41900000e-01   7.87100000e-02   1.09500000e+00   9.05300000e-01\n",
      "    8.58900000e+00   1.53400000e+02   6.39900000e-03   4.90400000e-02\n",
      "    5.37300000e-02   1.58700000e-02   3.00300000e-02   6.19300000e-03\n",
      "    2.53800000e+01   1.73300000e+01   1.84600000e+02   2.01900000e+03\n",
      "    1.62200000e-01   6.65600000e-01   7.11900000e-01   2.65400000e-01\n",
      "    4.60100000e-01   1.18900000e-01]\n",
      " [  2.05700000e+01   1.77700000e+01   1.32900000e+02   1.32600000e+03\n",
      "    8.47400000e-02   7.86400000e-02   8.69000000e-02   7.01700000e-02\n",
      "    1.81200000e-01   5.66700000e-02   5.43500000e-01   7.33900000e-01\n",
      "    3.39800000e+00   7.40800000e+01   5.22500000e-03   1.30800000e-02\n",
      "    1.86000000e-02   1.34000000e-02   1.38900000e-02   3.53200000e-03\n",
      "    2.49900000e+01   2.34100000e+01   1.58800000e+02   1.95600000e+03\n",
      "    1.23800000e-01   1.86600000e-01   2.41600000e-01   1.86000000e-01\n",
      "    2.75000000e-01   8.90200000e-02]\n",
      " [  1.96900000e+01   2.12500000e+01   1.30000000e+02   1.20300000e+03\n",
      "    1.09600000e-01   1.59900000e-01   1.97400000e-01   1.27900000e-01\n",
      "    2.06900000e-01   5.99900000e-02   7.45600000e-01   7.86900000e-01\n",
      "    4.58500000e+00   9.40300000e+01   6.15000000e-03   4.00600000e-02\n",
      "    3.83200000e-02   2.05800000e-02   2.25000000e-02   4.57100000e-03\n",
      "    2.35700000e+01   2.55300000e+01   1.52500000e+02   1.70900000e+03\n",
      "    1.44400000e-01   4.24500000e-01   4.50400000e-01   2.43000000e-01\n",
      "    3.61300000e-01   8.75800000e-02]\n",
      " [  1.14200000e+01   2.03800000e+01   7.75800000e+01   3.86100000e+02\n",
      "    1.42500000e-01   2.83900000e-01   2.41400000e-01   1.05200000e-01\n",
      "    2.59700000e-01   9.74400000e-02   4.95600000e-01   1.15600000e+00\n",
      "    3.44500000e+00   2.72300000e+01   9.11000000e-03   7.45800000e-02\n",
      "    5.66100000e-02   1.86700000e-02   5.96300000e-02   9.20800000e-03\n",
      "    1.49100000e+01   2.65000000e+01   9.88700000e+01   5.67700000e+02\n",
      "    2.09800000e-01   8.66300000e-01   6.86900000e-01   2.57500000e-01\n",
      "    6.63800000e-01   1.73000000e-01]\n",
      " [  2.02900000e+01   1.43400000e+01   1.35100000e+02   1.29700000e+03\n",
      "    1.00300000e-01   1.32800000e-01   1.98000000e-01   1.04300000e-01\n",
      "    1.80900000e-01   5.88300000e-02   7.57200000e-01   7.81300000e-01\n",
      "    5.43800000e+00   9.44400000e+01   1.14900000e-02   2.46100000e-02\n",
      "    5.68800000e-02   1.88500000e-02   1.75600000e-02   5.11500000e-03\n",
      "    2.25400000e+01   1.66700000e+01   1.52200000e+02   1.57500000e+03\n",
      "    1.37400000e-01   2.05000000e-01   4.00000000e-01   1.62500000e-01\n",
      "    2.36400000e-01   7.67800000e-02]]\n"
     ]
    }
   ],
   "source": [
    "print digits_data[:5]\n",
    "print ''\n",
    "print cancer_data[:5]"
   ]
  },
  {
   "cell_type": "code",
   "execution_count": 19,
   "metadata": {},
   "outputs": [
    {
     "data": {
      "image/png": "[encoded data removed]",
      "text/plain": [
       "<matplotlib.figure.Figure at 0x110903a50>"
      ]
     },
     "metadata": {},
     "output_type": "display_data"
    }
   ],
   "source": [
    "plt.hist(digits_target, edgecolor='black')\n",
    "plt.show()"
   ]
  },
  {
   "cell_type": "code",
   "execution_count": 20,
   "metadata": {},
   "outputs": [
    {
     "data": {
      "image/png": "[encoded data removed]",
      "text/plain": [
       "<matplotlib.figure.Figure at 0x1105a8e50>"
      ]
     },
     "metadata": {},
     "output_type": "display_data"
    }
   ],
   "source": [
    "plt.hist(cancer_target, edgecolor='black')\n",
    "plt.show()"
   ]
  },
  {
   "cell_type": "markdown",
   "metadata": {},
   "source": [
    "## Analysis"
   ]
  },
  {
   "cell_type": "code",
   "execution_count": 26,
   "metadata": {},
   "outputs": [
    {
     "name": "stdout",
     "output_type": "stream",
     "text": [
      "Gaussian: 0.936749280609\n",
      "Bernoulli: 0.627420402859\n",
      "Mult: 0.894579040193\n"
     ]
    }
   ],
   "source": [
    "from sklearn.model_selection import cross_val_score\n",
    "from sklearn.naive_bayes import BernoulliNB, GaussianNB, MultinomialNB\n",
    "\n",
    "clf = GaussianNB().fit(cancer_data, cancer_target)\n",
    "print \"Gaussian:\", cross_val_score(clf, cancer_data, cancer_target).mean()\n",
    "\n",
    "clf = BernoulliNB().fit(cancer_data, cancer_target)\n",
    "print \"Bernoulli:\", cross_val_score(clf, cancer_data, cancer_target).mean()\n",
    "\n",
    "clf = MultinomialNB().fit(cancer_data, cancer_target)\n",
    "print \"Mult:\", cross_val_score(clf, cancer_data, cancer_target).mean()"
   ]
  },
  {
   "cell_type": "code",
   "execution_count": 27,
   "metadata": {},
   "outputs": [
    {
     "name": "stdout",
     "output_type": "stream",
     "text": [
      "Gaussian: 0.818600380355\n",
      "Bernoulli: 0.825823650778\n",
      "Mult: 0.870877148974\n"
     ]
    }
   ],
   "source": [
    "clf = GaussianNB().fit(digits_data, digits_target)\n",
    "print \"Gaussian:\", cross_val_score(clf, digits_data, digits_target).mean()\n",
    "\n",
    "clf = BernoulliNB().fit(digits_data, digits_target)\n",
    "print \"Bernoulli:\", cross_val_score(clf, digits_data, digits_target).mean()\n",
    "\n",
    "clf = MultinomialNB().fit(digits_data, digits_target)\n",
    "print \"Mult:\", cross_val_score(clf, digits_data, digits_target).mean()"
   ]
  }
 ],
 "metadata": {
  "kernelspec": {
   "display_name": "Python 2",
   "language": "python",
   "name": "python2"
  },
  "language_info": {
   "codemirror_mode": {
    "name": "ipython",
    "version": 2
   },
   "file_extension": ".py",
   "mimetype": "text/x-python",
   "name": "python",
   "nbconvert_exporter": "python",
   "pygments_lexer": "ipython2",
   "version": "2.7.10"
  }
 },
 "nbformat": 4,
 "nbformat_minor": 2
}
