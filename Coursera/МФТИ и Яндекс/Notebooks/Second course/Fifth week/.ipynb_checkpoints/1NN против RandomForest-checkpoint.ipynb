{
 "cells": [
  {
   "cell_type": "code",
   "execution_count": 1,
   "metadata": {},
   "outputs": [],
   "source": [
    "import numpy as np\n",
    "import pandas as pd\n",
    "import matplotlib\n",
    "import sklearn\n",
    "from matplotlib import pyplot as plt\n",
    "matplotlib.style.use('ggplot')\n",
    "%matplotlib inline\n",
    "\n",
    "from sklearn.datasets import load_digits\n",
    "digits = load_digits()\n",
    "\n",
    "X_train, X_test = digits.data[:1348], digits.data[1348:]\n",
    "y_train, y_test = digits.target[:1348], digits.target[1348:]"
   ]
  },
  {
   "cell_type": "code",
   "execution_count": 16,
   "metadata": {},
   "outputs": [
    {
     "name": "stdout",
     "output_type": "stream",
     "text": [
      "0.0378619153675\n"
     ]
    }
   ],
   "source": [
    "def dist (p1, p2):\n",
    "    distantion = 0.\n",
    "    for i in range(p1.shape[0]):\n",
    "        distantion += (p1[i] - p2[i]) ** 2\n",
    "    return distantion\n",
    "\n",
    "def min_dist(obj, data, number):\n",
    "    mn = 999999\n",
    "    ind = 0.\n",
    "    sz = data.shape[0]\n",
    "    for i in range(sz):\n",
    "        if i == number:\n",
    "            continue\n",
    "        cur_dist = dist(obj, data[i])\n",
    "        if mn > cur_dist:\n",
    "            ind = i\n",
    "            mn = cur_dist\n",
    "    return ind\n",
    "\n",
    "from sklearn.metrics import accuracy_score\n",
    "y_pred = []\n",
    "for i in range(X_test.shape[0]):\n",
    "    y_pred.append(y_train[min_dist(X_test[i], X_train, i)])\n",
    "\n",
    "print 1. - accuracy_score(y_test, y_pred)"
   ]
  },
  {
   "cell_type": "code",
   "execution_count": 19,
   "metadata": {},
   "outputs": [
    {
     "name": "stdout",
     "output_type": "stream",
     "text": [
      "0.0690423162584\n"
     ]
    }
   ],
   "source": [
    "from sklearn.ensemble import RandomForestClassifier\n",
    "clf = RandomForestClassifier(n_estimators=1000)\n",
    "clf.fit(X_train, y_train)\n",
    "print 1. - accuracy_score(y_test, clf.predict(X_test))"
   ]
  }
 ],
 "metadata": {
  "kernelspec": {
   "display_name": "Python 2",
   "language": "python",
   "name": "python2"
  },
  "language_info": {
   "codemirror_mode": {
    "name": "ipython",
    "version": 2
   },
   "file_extension": ".py",
   "mimetype": "text/x-python",
   "name": "python",
   "nbconvert_exporter": "python",
   "pygments_lexer": "ipython2",
   "version": "2.7.10"
  }
 },
 "nbformat": 4,
 "nbformat_minor": 2
}
