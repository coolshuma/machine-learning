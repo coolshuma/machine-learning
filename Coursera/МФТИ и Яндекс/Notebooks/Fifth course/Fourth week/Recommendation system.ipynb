{
 "cells": [
  {
   "cell_type": "markdown",
   "metadata": {},
   "source": [
    "# Build a recomendation block"
   ]
  },
  {
   "cell_type": "code",
   "execution_count": 1,
   "metadata": {
    "collapsed": true
   },
   "outputs": [],
   "source": [
    "import pandas as pd\n",
    "import numpy as np\n",
    "from matplotlib import pyplot as plt\n",
    "%matplotlib inline"
   ]
  },
  {
   "cell_type": "markdown",
   "metadata": {},
   "source": [
    "### Data read and preprocessing"
   ]
  },
  {
   "cell_type": "code",
   "execution_count": 116,
   "metadata": {},
   "outputs": [],
   "source": [
    "train_data = pd.read_table('coursera_sessions_train.txt', \n",
    "                           sep=';', header=None)\n",
    "test_data = pd.read_table('coursera_sessions_test.txt', \n",
    "                           sep=';', header=None)\n",
    "train_data.columns = ['seen', 'bought']\n",
    "test_data.columns = ['seen', 'bought']"
   ]
  },
  {
   "cell_type": "code",
   "execution_count": 167,
   "metadata": {},
   "outputs": [],
   "source": [
    "from math import isnan\n",
    "seen_freq = dict()\n",
    "bought_freq = dict()\n",
    "\n",
    "for session in train_data.seen:\n",
    "    for cid in str(session).split(','):\n",
    "        if cid in seen_freq:\n",
    "            seen_freq[cid] += 1\n",
    "        else:\n",
    "            seen_freq[cid] = 1\n",
    "\n",
    "for session in train_data.bought:\n",
    "    try:\n",
    "        if isnan(session):\n",
    "            continue\n",
    "    except:\n",
    "        for cid in str(session).split(','):\n",
    "            if cid in bought_freq:\n",
    "                bought_freq[cid] += 1\n",
    "            else:\n",
    "                bought_freq[cid] = 1\n",
    "                \n",
    "# for session in test_data.seen:\n",
    "#     for cid in str(session).split(','):\n",
    "#         if cid not in seen_freq:\n",
    "#             seen_freq[cid] = 0\n",
    "#         if cid not in bought_freq:\n",
    "#             bought_freq[cid] = 0\n",
    "\n",
    "\n",
    "\n",
    "# for session in test_data.bought:\n",
    "#     try:\n",
    "#         if isnan(session):\n",
    "#             continue\n",
    "#     except:\n",
    "#         for cid in str(session).split(','):\n",
    "#             if cid not in bought_freq:\n",
    "#                 bought_freq[cid] = 0\n",
    "#             if cid not in seen_freq:\n",
    "#                 seen_freq[cid] = 0"
   ]
  },
  {
   "cell_type": "markdown",
   "metadata": {},
   "source": [
    "### Make easy reccomendation algorithm"
   ]
  },
  {
   "cell_type": "code",
   "execution_count": 226,
   "metadata": {
    "collapsed": true
   },
   "outputs": [],
   "source": [
    "def save_txt(a, fname):\n",
    "    with open('{}.txt'.format(fname), 'w') as f:\n",
    "        try:\n",
    "            for elem in a:\n",
    "                f.write(str(elem)+ ' ')\n",
    "        except:\n",
    "            f.write(str(a))"
   ]
  },
  {
   "cell_type": "code",
   "execution_count": 227,
   "metadata": {},
   "outputs": [
    {
     "name": "stdout",
     "output_type": "stream",
     "text": [
      "[(10, 2, 3), (1, -1, 3), (1, 1, 2), (1, 2, 3)]\n"
     ]
    }
   ],
   "source": [
    "def my_cmp(x, y):\n",
    "    if x[0] == y[0]:\n",
    "        return x[1] - y[1]\n",
    "\n",
    "    return y[0] - x[0]\n",
    "    \n",
    "l = [(1,2,3), (1,1,2), (1, -1, 3), (10, 2, 3)]\n",
    "l.sort(cmp=my_cmp)\n",
    "print l"
   ]
  },
  {
   "cell_type": "code",
   "execution_count": 255,
   "metadata": {},
   "outputs": [],
   "source": [
    "def get_rec(freq, k, seen):\n",
    "    rec = set()\n",
    "    all_fit = []\n",
    "    already_seen = set()\n",
    "    i = 0\n",
    "    for cid in seen:\n",
    "        if cid in already_seen:\n",
    "            continue\n",
    "        else:\n",
    "            already_seen.add(cid)\n",
    "            try:\n",
    "                freq[cid]\n",
    "            except:\n",
    "                freq[cid] = 0\n",
    "            all_fit.append((freq[cid], i, cid))\n",
    "            i += 1\n",
    "        \n",
    "    all_fit.sort(cmp=my_cmp)\n",
    "    \n",
    "    for i in range(min(i, k)):\n",
    "        rec.add(all_fit[i][2])\n",
    "    return rec\n",
    "\n",
    "def get_metrics(data, where, fname):\n",
    "    pr1 = []\n",
    "    pr5 = []\n",
    "    rc1 = []\n",
    "    rc5 = []\n",
    "    for user in data.values:\n",
    "        seen = user[0].split(',')\n",
    "        bought = user[1]\n",
    "        try:\n",
    "            if isnan(bought):\n",
    "                continue\n",
    "        except:\n",
    "            bought = bought.split(',')\n",
    "            for k in [1, 5]:\n",
    "                bought_count = 0\n",
    "                freq = seen_freq if where == 'seen' else bought_freq\n",
    "                rec = get_rec(freq, k, seen)\n",
    "                \n",
    "                for cid in bought:\n",
    "                    if cid in rec:\n",
    "                        bought_count += 1\n",
    "                if k == 1:\n",
    "                    pr1.append(bought_count / float(k))\n",
    "                    rc1.append(float(bought_count) / len(bought))\n",
    "                else:\n",
    "                    pr5.append(bought_count / float(k))\n",
    "                    rc5.append(float(bought_count) / len(bought))\n",
    "                    \n",
    "    save_txt(np.around([np.mean(rc1), np.mean(pr1),\n",
    "                        np.mean(rc5), np.mean(pr5)], 2), fname)\n",
    "#     save_txt(np.around([np.sum(rc[1]) / data.shape[0], np.sum(pr[1]) / data.shape[0], \n",
    "#                np.sum(rc[5]) / data.shape[0], np.sum(pr[5]) / data.shape[0]], 2), fname)"
   ]
  },
  {
   "cell_type": "code",
   "execution_count": 257,
   "metadata": {},
   "outputs": [],
   "source": [
    "get_metrics(train_data, 'seen', 'a1')\n",
    "get_metrics(test_data, 'seen', 'a2')\n",
    "get_metrics(train_data, 'bought', 'a3')\n",
    "get_metrics(test_data, 'bought', 'a4')"
   ]
  },
  {
   "cell_type": "code",
   "execution_count": null,
   "metadata": {
    "collapsed": true
   },
   "outputs": [],
   "source": []
  },
  {
   "cell_type": "code",
   "execution_count": null,
   "metadata": {
    "collapsed": true
   },
   "outputs": [],
   "source": []
  }
 ],
 "metadata": {
  "kernelspec": {
   "display_name": "Python 2",
   "language": "python",
   "name": "python2"
  },
  "language_info": {
   "codemirror_mode": {
    "name": "ipython",
    "version": 2
   },
   "file_extension": ".py",
   "mimetype": "text/x-python",
   "name": "python",
   "nbconvert_exporter": "python",
   "pygments_lexer": "ipython2",
   "version": "2.7.10"
  }
 },
 "nbformat": 4,
 "nbformat_minor": 2
}
