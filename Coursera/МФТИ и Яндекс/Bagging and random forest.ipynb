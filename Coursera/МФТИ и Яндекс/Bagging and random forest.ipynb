{
 "cells": [
  {
   "cell_type": "markdown",
   "metadata": {},
   "source": [
    "# Bagging and random forest"
   ]
  },
  {
   "cell_type": "code",
   "execution_count": 4,
   "metadata": {},
   "outputs": [],
   "source": [
    "import numpy as np\n",
    "import pandas as pd\n",
    "import matplotlib as plt\n",
    "from sklearn.datasets import load_digits\n",
    "from matplotlib import pyplot as plt\n",
    "plt.style.use('ggplot')\n",
    "%matplotlib inline"
   ]
  },
  {
   "cell_type": "markdown",
   "metadata": {},
   "source": [
    "## Load Data"
   ]
  },
  {
   "cell_type": "code",
   "execution_count": 5,
   "metadata": {
    "collapsed": true
   },
   "outputs": [],
   "source": [
    "X = load_digits().data\n",
    "y = load_digits().target"
   ]
  },
  {
   "cell_type": "code",
   "execution_count": 17,
   "metadata": {},
   "outputs": [
    {
     "name": "stdout",
     "output_type": "stream",
     "text": [
      "[0 1 2 ..., 8 9 8]\n"
     ]
    }
   ],
   "source": [
    "print y"
   ]
  },
  {
   "cell_type": "code",
   "execution_count": 20,
   "metadata": {},
   "outputs": [
    {
     "data": {
      "image/png": "[encoded data removed]",
      "text/plain": [
       "<matplotlib.figure.Figure at 0x107231c90>"
      ]
     },
     "metadata": {},
     "output_type": "display_data"
    }
   ],
   "source": [
    "plt.matshow(X[0].reshape(8, -1)) \n",
    "plt.show() "
   ]
  },
  {
   "cell_type": "code",
   "execution_count": 32,
   "metadata": {},
   "outputs": [
    {
     "data": {
      "image/png": "[encoded data removed]",
      "text/plain": [
       "<matplotlib.figure.Figure at 0x107ae5190>"
      ]
     },
     "metadata": {},
     "output_type": "display_data"
    }
   ],
   "source": [
    "plt.hist(y, histtype='bar', color='green', edgecolor='black')\n",
    "plt.title('Digits')\n",
    "plt.show()"
   ]
  },
  {
   "cell_type": "markdown",
   "metadata": {},
   "source": [
    "## Classification"
   ]
  },
  {
   "cell_type": "markdown",
   "metadata": {},
   "source": [
    "### Single tree classifier"
   ]
  },
  {
   "cell_type": "code",
   "execution_count": 55,
   "metadata": {},
   "outputs": [
    {
     "name": "stdout",
     "output_type": "stream",
     "text": [
      "0.832023226765\n"
     ]
    }
   ],
   "source": [
    "def write_answer_1(score):\n",
    "    with open(\"random_forest_1.txt\", \"w\") as fout:\n",
    "        fout.write(str(score))\n",
    "\n",
    "from sklearn.model_selection import cross_val_score\n",
    "from sklearn.tree import DecisionTreeClassifier\n",
    "clf = DecisionTreeClassifier()\n",
    "score = cross_val_score(clf, X, y, cv=10).mean()\n",
    "\n",
    "print score\n",
    "write_answer_1(score)"
   ]
  },
  {
   "cell_type": "markdown",
   "metadata": {},
   "source": [
    "### Bagging on 100 tree classifier"
   ]
  },
  {
   "cell_type": "code",
   "execution_count": 64,
   "metadata": {},
   "outputs": [
    {
     "name": "stdout",
     "output_type": "stream",
     "text": [
      "0.925393728795\n"
     ]
    }
   ],
   "source": [
    "def write_answer_2(score):\n",
    "    with open(\"random_forest_2.txt\", \"w\") as fout:\n",
    "        fout.write(str(score))\n",
    "        \n",
    "from sklearn.ensemble import BaggingClassifier\n",
    "clf = BaggingClassifier(base_estimator=DecisionTreeClassifier(), n_estimators=100)\n",
    "score = cross_val_score(clf, X, y, cv=10).mean()\n",
    "\n",
    "print score\n",
    "write_answer_2(score)"
   ]
  },
  {
   "cell_type": "markdown",
   "metadata": {},
   "source": [
    "### Bagging with $\\sqrt{d}$ random feature classifier"
   ]
  },
  {
   "cell_type": "code",
   "execution_count": 80,
   "metadata": {},
   "outputs": [
    {
     "name": "stdout",
     "output_type": "stream",
     "text": [
      "0.0235898924811\n"
     ]
    }
   ],
   "source": [
    "print sqrt(X.shape[0]) / X.shape[0]"
   ]
  },
  {
   "cell_type": "code",
   "execution_count": 91,
   "metadata": {},
   "outputs": [
    {
     "name": "stdout",
     "output_type": "stream",
     "text": [
      "0.950631440195\n",
      "CPU times: user 6.41 s, sys: 62.4 ms, total: 6.47 s\n",
      "Wall time: 6.54 s\n"
     ]
    }
   ],
   "source": [
    "%%time\n",
    "from math import sqrt\n",
    "def write_answer_3(score):\n",
    "    with open(\"random_forest_3.txt\", \"w\") as fout:\n",
    "        fout.write(str(score))\n",
    "        \n",
    "from sklearn.ensemble import BaggingClassifier\n",
    "clf = BaggingClassifier(base_estimator=DecisionTreeClassifier(max_features='sqrt'),\n",
    "                        n_estimators=100)\n",
    "sum = 0.\n",
    "for i in range(1):\n",
    "    sum += cross_val_score(clf, X, y, cv=10).mean()\n",
    "    \n",
    "sum /= 1\n",
    "\n",
    "print sum\n",
    "write_answer_3(sum)"
   ]
  },
  {
   "cell_type": "markdown",
   "metadata": {},
   "source": [
    "### Bagging with $\\sqrt{d}$ random feature classifier in each vertex"
   ]
  },
  {
   "cell_type": "code",
   "execution_count": 85,
   "metadata": {},
   "outputs": [
    {
     "name": "stdout",
     "output_type": "stream",
     "text": [
      "0.955071467946\n",
      "CPU times: user 6.21 s, sys: 46.5 ms, total: 6.26 s\n",
      "Wall time: 6.3 s\n"
     ]
    }
   ],
   "source": [
    "%%time\n",
    "from math import sqrt\n",
    "def write_answer_4(score):\n",
    "    with open(\"random_forest_4.txt\", \"w\") as fout:\n",
    "        fout.write(str(score))\n",
    "        \n",
    "from sklearn.ensemble import BaggingClassifier\n",
    "clf = BaggingClassifier(base_estimator=DecisionTreeClassifier(max_features='sqrt'),\n",
    "                        n_estimators=100)\n",
    "sum = 0.\n",
    "for i in range(1):\n",
    "    sum += cross_val_score(clf, X, y, cv=10).mean()\n",
    "    \n",
    "sum /= 1\n",
    "\n",
    "print sum\n",
    "write_answer_4(sum)"
   ]
  },
  {
   "cell_type": "markdown",
   "metadata": {},
   "source": [
    "### Random forest"
   ]
  },
  {
   "cell_type": "code",
   "execution_count": 103,
   "metadata": {},
   "outputs": [
    {
     "name": "stdout",
     "output_type": "stream",
     "text": [
      "0.947790884612\n",
      "CPU times: user 7.31 s, sys: 153 ms, total: 7.46 s\n",
      "Wall time: 7.76 s\n"
     ]
    }
   ],
   "source": [
    "%%time\n",
    "def write_answer_5(l):\n",
    "    with open(\"random_forest_5.txt\", \"w\") as fout:\n",
    "        fout.write(\" \".join([str(num) for num in l]))\n",
    "        \n",
    "from sklearn.ensemble import RandomForestClassifier\n",
    "clf = RandomForestClassifier(n_estimators=90, max_features='sqrt')\n",
    "\n",
    "sum = 0.\n",
    "for i in range(1):\n",
    "    sum += cross_val_score(clf, X, y, cv=10).mean()\n",
    "    \n",
    "sum /= 1\n",
    "\n",
    "l = [2, 3, 4, 7]\n",
    "print sum\n",
    "write_answer_5(l)"
   ]
  },
  {
   "cell_type": "markdown",
   "metadata": {},
   "source": [
    "### Relation between hyper-parameters and score"
   ]
  },
  {
   "cell_type": "code",
   "execution_count": 115,
   "metadata": {},
   "outputs": [
    {
     "name": "stdout",
     "output_type": "stream",
     "text": [
      "[0.94781211272124977, 0.93994014631989453, 0.91823420553112045]\n"
     ]
    }
   ],
   "source": [
    "sqrt_f = sqrt(X.shape[0]) / X.shape[0] + 0.15 #??\n",
    "mx_ft = [sqrt_f, 0.5, 1.]\n",
    "n_est =[5, 10, 15, 100, 150]\n",
    "\n",
    "py = []\n",
    "for ft in mx_ft:\n",
    "    clf = RandomForestClassifier(n_estimators=50, max_features=ft)\n",
    "    py.append(cross_val_score(clf, X, y, cv=10).mean())\n",
    "    \n",
    "print py"
   ]
  },
  {
   "cell_type": "code",
   "execution_count": 116,
   "metadata": {},
   "outputs": [
    {
     "data": {
      "text/plain": [
       "[<matplotlib.lines.Line2D at 0x10840d390>]"
      ]
     },
     "execution_count": 116,
     "metadata": {},
     "output_type": "execute_result"
    },
    {
     "data": {
      "image/png": "[encoded data removed]",
      "text/plain": [
       "<matplotlib.figure.Figure at 0x1083c6610>"
      ]
     },
     "metadata": {},
     "output_type": "display_data"
    }
   ],
   "source": [
    "plt.plot(mx_ft, py)"
   ]
  },
  {
   "cell_type": "code",
   "execution_count": 112,
   "metadata": {},
   "outputs": [
    {
     "name": "stdout",
     "output_type": "stream",
     "text": [
      "[0.88267158180127281, 0.92160584419683489, 0.93330174153975631, 0.95279278106938181, 0.95279163323869587]\n"
     ]
    },
    {
     "data": {
      "text/plain": [
       "[<matplotlib.lines.Line2D at 0x107799150>]"
      ]
     },
     "execution_count": 112,
     "metadata": {},
     "output_type": "execute_result"
    },
    {
     "data": {
      "image/png": "[encoded data removed]",
      "text/plain": [
       "<matplotlib.figure.Figure at 0x107ae3290>"
      ]
     },
     "metadata": {},
     "output_type": "display_data"
    }
   ],
   "source": [
    "py = []\n",
    "for est in n_est:\n",
    "    clf = RandomForestClassifier(n_estimators=est, max_features='sqrt')\n",
    "    py.append(cross_val_score(clf, X, y, cv=10).mean())\n",
    "    \n",
    "print py\n",
    "plt.plot(n_est, py)"
   ]
  },
  {
   "cell_type": "code",
   "execution_count": 119,
   "metadata": {},
   "outputs": [
    {
     "name": "stdout",
     "output_type": "stream",
     "text": [
      "[0.91308734626689991, 0.94939630275945319, 0.94997526716908143, 0.95051437377808112, 0.95277432056525657]\n"
     ]
    },
    {
     "data": {
      "text/plain": [
       "[<matplotlib.lines.Line2D at 0x1084a1510>]"
      ]
     },
     "execution_count": 119,
     "metadata": {},
     "output_type": "execute_result"
    },
    {
     "data": {
      "image/png": "[encoded data removed]",
      "text/plain": [
       "<matplotlib.figure.Figure at 0x1084ab3d0>"
      ]
     },
     "metadata": {},
     "output_type": "display_data"
    }
   ],
   "source": [
    "mx_dpth = [5, 10, 20, 40, 50]\n",
    "py = []\n",
    "for dpth in mx_dpth:\n",
    "    clf = RandomForestClassifier(n_estimators=100, max_features='sqrt', max_depth=dpth)\n",
    "    py.append(cross_val_score(clf, X, y, cv=10).mean())\n",
    "    \n",
    "print py\n",
    "plt.plot(mx_dpth, py)"
   ]
  },
  {
   "cell_type": "code",
   "execution_count": null,
   "metadata": {
    "collapsed": true
   },
   "outputs": [],
   "source": []
  }
 ],
 "metadata": {
  "kernelspec": {
   "display_name": "Python 2",
   "language": "python",
   "name": "python2"
  },
  "language_info": {
   "codemirror_mode": {
    "name": "ipython",
    "version": 2
   },
   "file_extension": ".py",
   "mimetype": "text/x-python",
   "name": "python",
   "nbconvert_exporter": "python",
   "pygments_lexer": "ipython2",
   "version": "2.7.10"
  }
 },
 "nbformat": 4,
 "nbformat_minor": 2
}
